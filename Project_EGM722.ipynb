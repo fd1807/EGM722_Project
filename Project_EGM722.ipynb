{
 "cells": [
  {
   "cell_type": "markdown",
   "id": "a7d5be09",
   "metadata": {},
   "source": [
    "# Part 1: Module and data import"
   ]
  },
  {
   "cell_type": "code",
   "execution_count": 1,
   "id": "661a19e1",
   "metadata": {},
   "outputs": [
    {
     "data": {
      "text/plain": [
       "<contextlib.ExitStack at 0x1643fd41490>"
      ]
     },
     "execution_count": 1,
     "metadata": {},
     "output_type": "execute_result"
    }
   ],
   "source": [
    "# this lets us use the figures interactively\n",
    "%matplotlib inline\n",
    "\n",
    "import os\n",
    "import pandas as pd\n",
    "import geopandas as gpd\n",
    "import matplotlib.pyplot as plt\n",
    "from mpl_toolkits.axes_grid1 import make_axes_locatable\n",
    "from cartopy.feature import ShapelyFeature\n",
    "import cartopy.crs as ccrs\n",
    "import matplotlib.patches as mpatches\n",
    "import matplotlib.lines as mlines\n",
    "from shapely.geometry import Point, LineString, Polygon\n",
    "\n",
    "plt.ion() # make the plotting interactive"
   ]
  },
  {
   "cell_type": "code",
   "execution_count": 2,
   "id": "3254c1fe",
   "metadata": {},
   "outputs": [],
   "source": [
    "def generate_handles(labels, colors, edge='k', alpha=1):\n",
    "    lc = len(colors)  # get the length of the color list\n",
    "    handles = []\n",
    "    for i in range(len(labels)):\n",
    "        handles.append(mpatches.Rectangle((0, 0), 1, 1, facecolor=colors[i % lc], edgecolor=edge, alpha=alpha))\n",
    "    return handles"
   ]
  },
  {
   "cell_type": "code",
   "execution_count": 3,
   "id": "1588efbf",
   "metadata": {},
   "outputs": [],
   "source": [
    "def scale_bar(ax, location=(0.32, 0.95)):\n",
    "    x0, x1, y0, y1 = ax.get_extent()\n",
    "    sbx = x0 + (x1 - x0) * location[0]\n",
    "    sby = y0 + (y1 - y0) * location[1]\n",
    "\n",
    "    ax.plot([sbx, sbx - 10000], [sby, sby], color='k', linewidth=9, transform=ax.projection)\n",
    "    ax.plot([sbx, sbx - 5000], [sby, sby], color='k', linewidth=6, transform=ax.projection)\n",
    "    ax.plot([sbx-5000, sbx - 10000], [sby, sby], color='w', linewidth=6, transform=ax.projection)\n",
    "\n",
    "    ax.text(sbx, sby-1000, '10 km', transform=ax.projection, fontsize=10)\n",
    "    ax.text(sbx-5000, sby-1000, '5 km', transform=ax.projection, fontsize=10)\n",
    "    ax.text(sbx-10000, sby-1000, '0 km', transform=ax.projection, fontsize=10)\n"
   ]
  },
  {
   "cell_type": "code",
   "execution_count": null,
   "id": "bad04971",
   "metadata": {},
   "outputs": [],
   "source": [
    "#import data file: flood, buildings, roads, population excel file, county outline, sa outline\n",
    "flood= gpd.read_file(os.path.abspath('Project_datafiles/Flood_2m.shp'))\n",
    "roads= gpd.read_file(os.path.abspath('Project_datafiles/Fermanagh_roads.shp'))\n",
    "buildings= gpd.read_file(os.path.abspath('Project_datafiles/Building_Fermanagh.shp'))\n",
    "pop_demography=gpd.read_file(os.path.abspath('Project_datafiles/popdemography.csv'))\n",
    "outline = gpd.read_file(os.path.abspath('Project_datafiles/Fermanagh_DCA.shp'))\n",
    "small_area= gpd.read_file(os.path.abspath('Project_datafiles/SApoly.shp'))\n",
    "land_cover= gpd.read_file(os.path.abspath('Project_datafiles/LC_Fermanagh.shp'))"
   ]
  },
  {
   "cell_type": "code",
   "execution_count": null,
   "id": "8d654f6c",
   "metadata": {
    "scrolled": true
   },
   "outputs": [],
   "source": [
    "small_area =gpd.GeoDataFrame(pop_demography.merge(small_area, on=\"SA2011\"))\n",
    "small_area.head()"
   ]
  },
  {
   "cell_type": "code",
   "execution_count": null,
   "id": "1d172c17",
   "metadata": {
    "scrolled": true
   },
   "outputs": [],
   "source": [
    "small_area.rename(columns={'geometry_y':'geometry'}, inplace=True)\n",
    "\n",
    "small_area.set_geometry('geometry')"
   ]
  },
  {
   "cell_type": "code",
   "execution_count": null,
   "id": "66fe4366",
   "metadata": {},
   "outputs": [],
   "source": [
    "small_area['residents'] = small_area['residents'].astype(int)\n",
    "small_area['Shape_Area'] = small_area['Shape_Area'].astype(int)\n"
   ]
  },
  {
   "cell_type": "code",
   "execution_count": null,
   "id": "90cad31a",
   "metadata": {},
   "outputs": [],
   "source": [
    "for ind, row in small_area.iterrows(): # iterate over each row in the GeoDataFrame\n",
    "    small_area.loc[ind, 'pop_density'] = row['residents']/ row['Shape_Area']* 1000000\n",
    "print(small_area.head())"
   ]
  },
  {
   "cell_type": "code",
   "execution_count": null,
   "id": "5739417f",
   "metadata": {},
   "outputs": [],
   "source": [
    "small_area['pop_density'].describe()"
   ]
  },
  {
   "cell_type": "code",
   "execution_count": null,
   "id": "94e10c0a",
   "metadata": {},
   "outputs": [],
   "source": [
    "flood.to_crs(epsg = 2157)\n",
    "roads.to_crs(epsg = 2157)\n",
    "buildings.to_crs(epsg = 2157)\n",
    "outline.to_crs(epsg = 2157)\n",
    "small_area.to_crs(epsg = 2157)\n",
    "land_cover.to_crs(epsg = 2157)"
   ]
  },
  {
   "cell_type": "code",
   "execution_count": null,
   "id": "7f9a31dd",
   "metadata": {},
   "outputs": [],
   "source": [
    "def underwater(shapefile):\n",
    "    flood_geom = flood['geometry'].values[0]\n",
    "    underwater = shapefile['geometry'].within(flood_geom)\n",
    "    return shapefile['geometry'].within(flood_geom)\n"
   ]
  },
  {
   "cell_type": "markdown",
   "id": "eca29510",
   "metadata": {},
   "source": [
    "# Part 2: Landcover analyses and map"
   ]
  },
  {
   "cell_type": "code",
   "execution_count": null,
   "id": "d969f21a",
   "metadata": {},
   "outputs": [],
   "source": [
    "myFig = plt.figure(figsize=(12, 12))  # create a figure of size 10x10 (representing the page size in inches)\n",
    "\n",
    "myCRS = ccrs.UTM(29)  # create a Universal Transverse Mercator reference system to transform our data.\n",
    "# be sure to fill in XX above with the correct number for the UTM Zone that Northern Ireland is part of.\n",
    "\n",
    "ax = plt.axes(projection=myCRS)  # finally, create an axes object in the figure, using a UTM projection,\n",
    "# where we can actually plot our data."
   ]
  },
  {
   "cell_type": "code",
   "execution_count": null,
   "id": "f8ec79c5",
   "metadata": {},
   "outputs": [],
   "source": [
    "# first, we just add the outline of Northern Ireland using cartopy's ShapelyFeature\n",
    "outline_feature = ShapelyFeature(outline['geometry'], myCRS, edgecolor='k', facecolor='w')\n",
    "xmin, ymin, xmax, ymax = flood.total_bounds\n",
    "ax.add_feature(outline_feature) # add the features we've created to the map.\n",
    "ax.set_extent([xmin-1000, xmax+1000, ymin-1000, ymax+1000], crs=myCRS)\n"
   ]
  },
  {
   "cell_type": "code",
   "execution_count": null,
   "id": "457894b1",
   "metadata": {},
   "outputs": [],
   "source": [
    "# get the number of unique municipalities we have in the dataset\n",
    "landcover= len(land_cover.LAND_COVER.unique())\n",
    "print('Number of unique features: {}'.format(landcover))\n"
   ]
  },
  {
   "cell_type": "code",
   "execution_count": null,
   "id": "7f481dd4",
   "metadata": {},
   "outputs": [],
   "source": [
    "land_cover_colors = ['springgreen','olive', 'sienna','darkred', 'lawngreen', 'forestgreen','yellowgreen', 'y','darkgreen','darkorange','lightgrey','gold','black','grey']\n",
    "landcover=list(land_cover.LAND_COVER.unique())\n",
    "for ii, name in enumerate(landcover):\n",
    "    feat = ShapelyFeature(land_cover.loc[land_cover['LAND_COVER'] == name, 'geometry'], # first argument is the geometry\n",
    "                          myCRS, # second argument is the CRS\n",
    "                          edgecolor='k', # outline the feature in black\n",
    "                          facecolor=land_cover_colors[ii],\n",
    "                        linewidth=0.1,\n",
    "                         alpha=0.8) # set the face color to the corresponding color from the list\n",
    "                           # set the outline width to be 1 pt\n",
    "                           # set the alpha (transparency) to be 0.25 (out of 1)\n",
    "    ax.add_feature(feat)\n"
   ]
  },
  {
   "cell_type": "code",
   "execution_count": null,
   "id": "ef49e244",
   "metadata": {
    "scrolled": true
   },
   "outputs": [],
   "source": [
    "flood_feature = ShapelyFeature(flood['geometry'], myCRS, edgecolor='k',facecolor='navy',alpha=1,linewidth=0.1)\n",
    "ax.add_feature(flood_feature)\n"
   ]
  },
  {
   "cell_type": "code",
   "execution_count": null,
   "id": "2b8fbaa2",
   "metadata": {},
   "outputs": [],
   "source": [
    "landcover_handles = generate_handles(land_cover.LAND_COVER.unique(), land_cover_colors)\n",
    "flood_handles = generate_handles(['Flood'], ['navy'])"
   ]
  },
  {
   "cell_type": "code",
   "execution_count": null,
   "id": "50bc88f5",
   "metadata": {
    "scrolled": true
   },
   "outputs": [],
   "source": [
    "# ax.legend() takes a list of handles and a list of labels corresponding to the objects\n",
    "# you want to add to the legend\n",
    "handles = landcover_handles  + flood_handles # use '+' to concatenate (combine) lists\n",
    "labels = landcover + ['Flood']\n",
    "\n",
    "leg = ax.legend(handles, labels, title='Legend', title_fontsize=12,\n",
    "                 fontsize=10, loc='lower left', frameon=True, framealpha=1)\n",
    "\n",
    "gridlines = ax.gridlines(draw_labels=True, alpha=1, edgecolor='k') # draw  labels for the grid lines\n",
    "                         \n",
    "gridlines.left_labels = False # turn off the left-side labels\n",
    "gridlines.bottom_labels = False\n",
    "\n",
    "scale_bar(ax)\n",
    "myFig # to show the updated figure"
   ]
  },
  {
   "cell_type": "code",
   "execution_count": null,
   "id": "ccd1755c",
   "metadata": {},
   "outputs": [],
   "source": [
    "lc_flooded = underwater(land_cover) # call underwater function to select land parcels in 5m flood zone\n",
    "land_flooded = land_cover[lc_flooded] # subset the land cover shapefile to include only underwater = true\n",
    "print(land_flooded[['LAND_COVER','Shape_Area']])"
   ]
  },
  {
   "cell_type": "code",
   "execution_count": null,
   "id": "779bc382",
   "metadata": {},
   "outputs": [],
   "source": [
    "land_flooded.groupby(['LAND_COVER'])['Shape_Area'].sum().sort_values(ascending=False)"
   ]
  },
  {
   "cell_type": "markdown",
   "id": "d4c60ea6",
   "metadata": {},
   "source": [
    "# Part 3: Infrastructure and population analyses and map"
   ]
  },
  {
   "cell_type": "code",
   "execution_count": null,
   "id": "c34ab0f7",
   "metadata": {},
   "outputs": [],
   "source": [
    "myCRS = ccrs.UTM(29)\n",
    "# create a figure of size 10x10 (representing the page size in inches\n",
    "myFig2, ax = plt.subplots(1, 1, figsize=(10, 10), subplot_kw=dict(projection=myCRS))  # create a Universal Transverse Mercator reference system to transform our data.\n",
    "# be sure to fill in XX above with the correct number for the UTM Zone that Northern Ireland is part of.\n",
    "# finally, create an axes object in the figure, using a UTM projection,\n",
    "# where we can actually plot our data.\n",
    "\n",
    "#myFig2, ax = plt.subplots(1, 1, figsize=(10, 10), subplot_kw=dict(projection=myCRS))\n",
    "xmin, ymin, xmax, ymax = flood.total_bounds\n",
    "\n",
    "  # create a figure of size 10x10 (representing the page size in inches)\n",
    "  # create a Universal Transverse Mercator reference system to transform our data.\n",
    "# be sure to fill in XX above with the correct number for the UTM Zone that Northern Ireland is part of. \n",
    "# first, we just add the outline of Northern Ireland using cartopy's ShapelyFeature\n"
   ]
  },
  {
   "cell_type": "code",
   "execution_count": null,
   "id": "e6a9fbee",
   "metadata": {},
   "outputs": [],
   "source": [
    "outline_feature = ShapelyFeature(outline['geometry'], myCRS, edgecolor='k', facecolor='w')\n",
    "xmin, ymin, xmax, ymax = flood.total_bounds\n",
    "\n",
    "ax.add_feature(outline_feature)"
   ]
  },
  {
   "cell_type": "code",
   "execution_count": null,
   "id": "d8f5d583",
   "metadata": {},
   "outputs": [],
   "source": [
    "flood_feature = ShapelyFeature(flood['geometry'], myCRS, edgecolor='k',facecolor='navy',alpha=0.5,linewidth=0.1)\n",
    "ax.add_feature(flood_feature)\n",
    "\n",
    "roads_feature = ShapelyFeature(roads['geometry'], myCRS, edgecolor='k', linewidth=1)\n",
    "ax.add_feature(roads_feature)\n"
   ]
  },
  {
   "cell_type": "code",
   "execution_count": null,
   "id": "3d8b6fd2",
   "metadata": {},
   "outputs": [],
   "source": [
    "# ShapelyFeature creates a polygon, so for point data we can just use ax.plot()\n",
    "residential=buildings.loc[buildings['CLASSIFICA']=='Residential']\n",
    "residential_handle= ax.plot(residential.geometry.x, residential.geometry.y, 's', color='b', ms=2, transform=myCRS)\n",
    "\n",
    "commercial=buildings.loc[buildings['CLASSIFICA']=='Commercial']\n",
    "commercial_handle=ax.plot(commercial.geometry.x, commercial.geometry.y, 'o', color='k', ms=2, transform=myCRS)\n",
    "\n",
    "education=buildings.loc[buildings['CLASSIFICA']=='Education']\n",
    "education_handle=ax.plot(education.geometry.x, education.geometry.y, '^', color='g', ms=2, transform=myCRS)\n",
    "\n",
    "health=buildings.loc[buildings['CLASSIFICA']=='Health']\n",
    "health_handle=ax.plot(health.geometry.x, health.geometry.y, '*', color='r', ms=2, transform=myCRS)\n",
    "\n",
    "other=buildings.loc[buildings['CLASSIFICA']=='Other']\n",
    "other_handle=ax.plot(other.geometry.x, other.geometry.y, 'h', color='y', ms=2, transform=myCRS)\n",
    "\n",
    "myFig2"
   ]
  },
  {
   "cell_type": "code",
   "execution_count": null,
   "id": "26e8719f",
   "metadata": {},
   "outputs": [],
   "source": [
    "# set a variable that will call whatever column we want to visualise on the map\n",
    "#myFig2= small_area.explore('population_density', cmap='viridis')\n",
    "# set the range for the choropleth\n",
    "\n",
    "divider = make_axes_locatable(ax)\n",
    "cax = divider.append_axes(\"right\", size=\"5%\", pad=0.1, axes_class=plt.Axes)\n",
    "\n",
    "#pop_density=small_area.plot(column='residents', ax=ax, vmax=10000, cmap='magma',\n",
    "                       #legend=True, cax=cax, legend_kwds={'label': 'Resident Population'})\n"
   ]
  },
  {
   "cell_type": "code",
   "execution_count": null,
   "id": "328d6e20",
   "metadata": {},
   "outputs": [],
   "source": [
    "small_area_plot = small_area.plot(column='pop_density', ax=ax, vmax=100, cmap='Blues',\n",
    "                       legend=True, cax=cax, legend_kwds={'label': 'Population Density'})\n",
    "sa_outline = ShapelyFeature(small_area['geometry'], myCRS, edgecolor='r',linewidth=0.1, facecolor='none')\n",
    "ax.add_feature(sa_outline)\n",
    "myFig2"
   ]
  },
  {
   "cell_type": "code",
   "execution_count": null,
   "id": "1ac5c195",
   "metadata": {},
   "outputs": [],
   "source": [
    "roads_handle = [mlines.Line2D([], [], color='k')]\n",
    "flood_handle = generate_handles(['Flood'], ['navy'])"
   ]
  },
  {
   "cell_type": "code",
   "execution_count": null,
   "id": "fbb082cd",
   "metadata": {},
   "outputs": [],
   "source": [
    "# ax.legend() takes a list of handles and a list of labels corresponding to the objects\n",
    "# you want to add to the legend\n",
    "handles = roads_handle  + flood_handle + residential_handle + commercial_handle + other_handle + health_handle + education_handle # use '+' to concatenate (combine) lists\n",
    "labels = ['Roads'] + ['Flood'] + ['Residential'] + ['Commercial'] + ['Other'] + ['Health'] + ['Education']\n",
    "\n",
    "leg = ax.legend(handles, labels, title='Legend', title_fontsize=12,\n",
    "                 fontsize=10, loc='lower left',markerscale=4, frameon=True, framealpha=1)\n",
    "\n",
    "\n",
    "gridlines = ax.gridlines(draw_labels=True, alpha=1, edgecolor='k') # draw  labels for the grid lines\n",
    "                         \n",
    "gridlines.right_labels = False # turn off the left-side labels\n",
    "gridlines.bottom_labels = False\n",
    "\n",
    "scale_bar(ax)\n",
    "myFig2 # to show the updated figure\n",
    "#myFig2.savefig('pop_demography.png')"
   ]
  },
  {
   "cell_type": "code",
   "execution_count": null,
   "id": "063b8f89",
   "metadata": {},
   "outputs": [],
   "source": [
    "build_flooded = underwater(buildings) # call underwater function to select land parcels in 5m flood zone\n",
    "building_flooded = buildings[build_flooded] # subset the land cover shapefile to include only underwater = true\n",
    "\n",
    "rd_flooded = underwater(roads) # call underwater function to select land parcels in 5m flood zone\n",
    "roads_flooded = roads[rd_flooded] # subset the land cover shapefile to include only underwater = true\n",
    "\n",
    "sa_flooded = small_area.sjoin(flood, how=\"inner\") # call underwater function to select land parcels in 5m flood zone\n",
    " # subset the land cover shapefile to include only underwater = true\n",
    "sa_flooded['SA2011'].count()"
   ]
  },
  {
   "cell_type": "code",
   "execution_count": null,
   "id": "38a195db",
   "metadata": {},
   "outputs": [],
   "source": [
    "sum_roads = roads_flooded['Length'].sum() /1000\n",
    "sum_motorway = roads_flooded[roads_flooded['CLASS'] == 'A']['Length'].sum() /1000\n",
    "print('{:.2f} total km of roads'.format(sum_roads))\n",
    "print('{:.2f} total km of A class road'.format(sum_motorway))"
   ]
  },
  {
   "cell_type": "code",
   "execution_count": null,
   "id": "74c60a3a",
   "metadata": {},
   "outputs": [],
   "source": [
    "building_flooded.groupby(['CLASSIFICA'])['CLASSIFICA'].count().sort_values(ascending=False)"
   ]
  },
  {
   "cell_type": "code",
   "execution_count": null,
   "id": "cd5b4a58",
   "metadata": {},
   "outputs": [],
   "source": [
    "high_density= sa_flooded[sa_flooded.pop_density==sa_flooded.pop_density.max()]\n",
    "print(high_density[['SA2011', 'pop_density']])"
   ]
  },
  {
   "cell_type": "code",
   "execution_count": null,
   "id": "ca5b432e",
   "metadata": {},
   "outputs": [],
   "source": [
    "#analyses:-tot pop in flood polygon\n",
    "#         - nbr resident houses\n",
    "#         - tot length of road impacted and class A roas\n",
    "#         - Sa with highest pop density and if any are adjacent\n",
    "#         - SA with less than avg pop density\n",
    "#         - which landcover types has highest area in flood poly\n",
    "#         - total area flooded per landcover types\n",
    "#         - SA with highest % of elderly/child\n",
    "#         - SA with low pop density but high child %\n",
    "#         - SA with medical building\n",
    "#         - residential building furtherest from medical build (use original dataset ?)\n",
    "#         - SA centre furthest from medical building"
   ]
  },
  {
   "cell_type": "code",
   "execution_count": null,
   "id": "3682b583",
   "metadata": {},
   "outputs": [],
   "source": [
    "#add scale and legend handle"
   ]
  },
  {
   "cell_type": "code",
   "execution_count": null,
   "id": "1c176352",
   "metadata": {},
   "outputs": [],
   "source": [
    "#create map and add features to map\n",
    "# do second map with landcover"
   ]
  },
  {
   "cell_type": "code",
   "execution_count": null,
   "id": "13c66833",
   "metadata": {},
   "outputs": [],
   "source": [
    "#different labels depending on building class and road class"
   ]
  },
  {
   "cell_type": "code",
   "execution_count": null,
   "id": "6a65b5af",
   "metadata": {},
   "outputs": [],
   "source": [
    "#grid lines"
   ]
  },
  {
   "cell_type": "code",
   "execution_count": null,
   "id": "d92d7264",
   "metadata": {},
   "outputs": [],
   "source": []
  },
  {
   "cell_type": "code",
   "execution_count": null,
   "id": "0cd6cb31",
   "metadata": {},
   "outputs": [],
   "source": []
  },
  {
   "cell_type": "code",
   "execution_count": null,
   "id": "1c648434",
   "metadata": {},
   "outputs": [],
   "source": []
  },
  {
   "cell_type": "code",
   "execution_count": null,
   "id": "403bb83f",
   "metadata": {},
   "outputs": [],
   "source": []
  }
 ],
 "metadata": {
  "kernelspec": {
   "display_name": "Python 3 (ipykernel)",
   "language": "python",
   "name": "python3"
  },
  "language_info": {
   "codemirror_mode": {
    "name": "ipython",
    "version": 3
   },
   "file_extension": ".py",
   "mimetype": "text/x-python",
   "name": "python",
   "nbconvert_exporter": "python",
   "pygments_lexer": "ipython3",
   "version": "3.9.16"
  }
 },
 "nbformat": 4,
 "nbformat_minor": 5
}
