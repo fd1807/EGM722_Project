{
 "cells": [
  {
   "cell_type": "markdown",
   "id": "a7d5be09",
   "metadata": {},
   "source": [
    "# Part 1: Data import and preparation\n",
    "\n"
   ]
  },
  {
   "cell_type": "code",
   "execution_count": 1,
   "id": "661a19e1",
   "metadata": {},
   "outputs": [
    {
     "data": {
      "text/plain": [
       "<contextlib.ExitStack at 0x216e3a36a10>"
      ]
     },
     "execution_count": 1,
     "metadata": {},
     "output_type": "execute_result"
    }
   ],
   "source": [
    "# Import the modules necessary for the program\n",
    "\n",
    "\n",
    "import os\n",
    "import pandas as pd\n",
    "import geopandas as gpd\n",
    "import matplotlib.pyplot as plt\n",
    "from mpl_toolkits.axes_grid1 import make_axes_locatable\n",
    "from cartopy.feature import ShapelyFeature\n",
    "import cartopy.crs as ccrs\n",
    "import matplotlib.patches as mpatches\n",
    "import matplotlib.lines as mlines\n",
    "from shapely.geometry import Point, LineString, Polygon\n",
    "\n",
    "%matplotlib inline\n",
    "plt.ion() # make the plotting interactive"
   ]
  },
  {
   "cell_type": "code",
   "execution_count": 2,
   "id": "3254c1fe",
   "metadata": {},
   "outputs": [],
   "source": [
    "# Creates matplotlib handles which will be used to create a legend of the features added on the maps\n",
    "def generate_handles(labels, colors, edge='k', alpha=1):\n",
    "    lc = len(colors)  \n",
    "    handles = []\n",
    "    for i in range(len(labels)):\n",
    "        handles.append(mpatches.Rectangle((0, 0), 1, 1, facecolor=colors[i % lc], edgecolor=edge, alpha=alpha))\n",
    "    return handles"
   ]
  },
  {
   "cell_type": "code",
   "execution_count": 3,
   "id": "1588efbf",
   "metadata": {},
   "outputs": [],
   "source": [
    "# Creates a scale (with a division at 0,5 and 10m)  located in the upper right corner\n",
    "def scale_bar(ax, location=(0.32, 0.95)):\n",
    "    x0, x1, y0, y1 = ax.get_extent()\n",
    "    sbx = x0 + (x1 - x0) * location[0]\n",
    "    sby = y0 + (y1 - y0) * location[1]\n",
    "\n",
    "    ax.plot([sbx, sbx - 10000], [sby, sby], color='k', linewidth=9, transform=ax.projection)\n",
    "    ax.plot([sbx, sbx - 5000], [sby, sby], color='k', linewidth=6, transform=ax.projection)\n",
    "    ax.plot([sbx-5000, sbx - 10000], [sby, sby], color='w', linewidth=6, transform=ax.projection)\n",
    "\n",
    "    ax.text(sbx, sby-1000, '10 km', transform=ax.projection, fontsize=10)\n",
    "    ax.text(sbx-5000, sby-1000, '5 km', transform=ax.projection, fontsize=10)\n",
    "    ax.text(sbx-12000, sby-1000, '0 km', transform=ax.projection, fontsize=10)\n"
   ]
  },
  {
   "cell_type": "code",
   "execution_count": 4,
   "id": "bad04971",
   "metadata": {},
   "outputs": [
    {
     "ename": "DriverError",
     "evalue": "C:\\Users\\dubuc\\OneDrive\\Documents\\GitHub\\EGM722_Project\\Project_datafiles\\Building_Fermanagh.shp: No such file or directory",
     "output_type": "error",
     "traceback": [
      "\u001b[1;31m---------------------------------------------------------------------------\u001b[0m",
      "\u001b[1;31mCPLE_OpenFailedError\u001b[0m                      Traceback (most recent call last)",
      "File \u001b[1;32mfiona\\ogrext.pyx:136\u001b[0m, in \u001b[0;36mfiona.ogrext.gdal_open_vector\u001b[1;34m()\u001b[0m\n",
      "File \u001b[1;32mfiona\\_err.pyx:291\u001b[0m, in \u001b[0;36mfiona._err.exc_wrap_pointer\u001b[1;34m()\u001b[0m\n",
      "\u001b[1;31mCPLE_OpenFailedError\u001b[0m: C:\\Users\\dubuc\\OneDrive\\Documents\\GitHub\\EGM722_Project\\Project_datafiles\\Building_Fermanagh.shp: No such file or directory",
      "\nDuring handling of the above exception, another exception occurred:\n",
      "\u001b[1;31mDriverError\u001b[0m                               Traceback (most recent call last)",
      "Cell \u001b[1;32mIn[4], line 5\u001b[0m\n\u001b[0;32m      3\u001b[0m flood\u001b[38;5;241m=\u001b[39m gpd\u001b[38;5;241m.\u001b[39mread_file(os\u001b[38;5;241m.\u001b[39mpath\u001b[38;5;241m.\u001b[39mabspath(\u001b[38;5;124m'\u001b[39m\u001b[38;5;124mProject_datafiles/Flood_2m.shp\u001b[39m\u001b[38;5;124m'\u001b[39m))\n\u001b[0;32m      4\u001b[0m roads\u001b[38;5;241m=\u001b[39m gpd\u001b[38;5;241m.\u001b[39mread_file(os\u001b[38;5;241m.\u001b[39mpath\u001b[38;5;241m.\u001b[39mabspath(\u001b[38;5;124m'\u001b[39m\u001b[38;5;124mProject_datafiles/Fermanagh_roads.shp\u001b[39m\u001b[38;5;124m'\u001b[39m))\n\u001b[1;32m----> 5\u001b[0m buildings\u001b[38;5;241m=\u001b[39m \u001b[43mgpd\u001b[49m\u001b[38;5;241;43m.\u001b[39;49m\u001b[43mread_file\u001b[49m\u001b[43m(\u001b[49m\u001b[43mos\u001b[49m\u001b[38;5;241;43m.\u001b[39;49m\u001b[43mpath\u001b[49m\u001b[38;5;241;43m.\u001b[39;49m\u001b[43mabspath\u001b[49m\u001b[43m(\u001b[49m\u001b[38;5;124;43m'\u001b[39;49m\u001b[38;5;124;43mProject_datafiles/Building_Fermanagh.shp\u001b[39;49m\u001b[38;5;124;43m'\u001b[39;49m\u001b[43m)\u001b[49m\u001b[43m)\u001b[49m\n\u001b[0;32m      6\u001b[0m pop_demography\u001b[38;5;241m=\u001b[39mgpd\u001b[38;5;241m.\u001b[39mread_file(os\u001b[38;5;241m.\u001b[39mpath\u001b[38;5;241m.\u001b[39mabspath(\u001b[38;5;124m'\u001b[39m\u001b[38;5;124mProject_datafiles/popdemography.csv\u001b[39m\u001b[38;5;124m'\u001b[39m))\n\u001b[0;32m      7\u001b[0m outline \u001b[38;5;241m=\u001b[39m gpd\u001b[38;5;241m.\u001b[39mread_file(os\u001b[38;5;241m.\u001b[39mpath\u001b[38;5;241m.\u001b[39mabspath(\u001b[38;5;124m'\u001b[39m\u001b[38;5;124mProject_datafiles/Fermanagh_DCA.shp\u001b[39m\u001b[38;5;124m'\u001b[39m))\n",
      "File \u001b[1;32m~\\anaconda3\\envs\\Project_EGM722\\Lib\\site-packages\\geopandas\\io\\file.py:259\u001b[0m, in \u001b[0;36m_read_file\u001b[1;34m(filename, bbox, mask, rows, engine, **kwargs)\u001b[0m\n\u001b[0;32m    256\u001b[0m     path_or_bytes \u001b[38;5;241m=\u001b[39m filename\n\u001b[0;32m    258\u001b[0m \u001b[38;5;28;01mif\u001b[39;00m engine \u001b[38;5;241m==\u001b[39m \u001b[38;5;124m\"\u001b[39m\u001b[38;5;124mfiona\u001b[39m\u001b[38;5;124m\"\u001b[39m:\n\u001b[1;32m--> 259\u001b[0m     \u001b[38;5;28;01mreturn\u001b[39;00m \u001b[43m_read_file_fiona\u001b[49m\u001b[43m(\u001b[49m\n\u001b[0;32m    260\u001b[0m \u001b[43m        \u001b[49m\u001b[43mpath_or_bytes\u001b[49m\u001b[43m,\u001b[49m\u001b[43m \u001b[49m\u001b[43mfrom_bytes\u001b[49m\u001b[43m,\u001b[49m\u001b[43m \u001b[49m\u001b[43mbbox\u001b[49m\u001b[38;5;241;43m=\u001b[39;49m\u001b[43mbbox\u001b[49m\u001b[43m,\u001b[49m\u001b[43m \u001b[49m\u001b[43mmask\u001b[49m\u001b[38;5;241;43m=\u001b[39;49m\u001b[43mmask\u001b[49m\u001b[43m,\u001b[49m\u001b[43m \u001b[49m\u001b[43mrows\u001b[49m\u001b[38;5;241;43m=\u001b[39;49m\u001b[43mrows\u001b[49m\u001b[43m,\u001b[49m\u001b[43m \u001b[49m\u001b[38;5;241;43m*\u001b[39;49m\u001b[38;5;241;43m*\u001b[39;49m\u001b[43mkwargs\u001b[49m\n\u001b[0;32m    261\u001b[0m \u001b[43m    \u001b[49m\u001b[43m)\u001b[49m\n\u001b[0;32m    262\u001b[0m \u001b[38;5;28;01melif\u001b[39;00m engine \u001b[38;5;241m==\u001b[39m \u001b[38;5;124m\"\u001b[39m\u001b[38;5;124mpyogrio\u001b[39m\u001b[38;5;124m\"\u001b[39m:\n\u001b[0;32m    263\u001b[0m     \u001b[38;5;28;01mreturn\u001b[39;00m _read_file_pyogrio(\n\u001b[0;32m    264\u001b[0m         path_or_bytes, bbox\u001b[38;5;241m=\u001b[39mbbox, mask\u001b[38;5;241m=\u001b[39mmask, rows\u001b[38;5;241m=\u001b[39mrows, \u001b[38;5;241m*\u001b[39m\u001b[38;5;241m*\u001b[39mkwargs\n\u001b[0;32m    265\u001b[0m     )\n",
      "File \u001b[1;32m~\\anaconda3\\envs\\Project_EGM722\\Lib\\site-packages\\geopandas\\io\\file.py:303\u001b[0m, in \u001b[0;36m_read_file_fiona\u001b[1;34m(path_or_bytes, from_bytes, bbox, mask, rows, where, **kwargs)\u001b[0m\n\u001b[0;32m    300\u001b[0m     reader \u001b[38;5;241m=\u001b[39m fiona\u001b[38;5;241m.\u001b[39mopen\n\u001b[0;32m    302\u001b[0m \u001b[38;5;28;01mwith\u001b[39;00m fiona_env():\n\u001b[1;32m--> 303\u001b[0m     \u001b[38;5;28;01mwith\u001b[39;00m \u001b[43mreader\u001b[49m\u001b[43m(\u001b[49m\u001b[43mpath_or_bytes\u001b[49m\u001b[43m,\u001b[49m\u001b[43m \u001b[49m\u001b[38;5;241;43m*\u001b[39;49m\u001b[38;5;241;43m*\u001b[39;49m\u001b[43mkwargs\u001b[49m\u001b[43m)\u001b[49m \u001b[38;5;28;01mas\u001b[39;00m features:\n\u001b[0;32m    304\u001b[0m         crs \u001b[38;5;241m=\u001b[39m features\u001b[38;5;241m.\u001b[39mcrs_wkt\n\u001b[0;32m    305\u001b[0m         \u001b[38;5;66;03m# attempt to get EPSG code\u001b[39;00m\n",
      "File \u001b[1;32m~\\anaconda3\\envs\\Project_EGM722\\Lib\\site-packages\\fiona\\env.py:457\u001b[0m, in \u001b[0;36mensure_env_with_credentials.<locals>.wrapper\u001b[1;34m(*args, **kwds)\u001b[0m\n\u001b[0;32m    454\u001b[0m     session \u001b[38;5;241m=\u001b[39m DummySession()\n\u001b[0;32m    456\u001b[0m \u001b[38;5;28;01mwith\u001b[39;00m env_ctor(session\u001b[38;5;241m=\u001b[39msession):\n\u001b[1;32m--> 457\u001b[0m     \u001b[38;5;28;01mreturn\u001b[39;00m \u001b[43mf\u001b[49m\u001b[43m(\u001b[49m\u001b[38;5;241;43m*\u001b[39;49m\u001b[43margs\u001b[49m\u001b[43m,\u001b[49m\u001b[43m \u001b[49m\u001b[38;5;241;43m*\u001b[39;49m\u001b[38;5;241;43m*\u001b[39;49m\u001b[43mkwds\u001b[49m\u001b[43m)\u001b[49m\n",
      "File \u001b[1;32m~\\anaconda3\\envs\\Project_EGM722\\Lib\\site-packages\\fiona\\__init__.py:336\u001b[0m, in \u001b[0;36mopen\u001b[1;34m(fp, mode, driver, schema, crs, encoding, layer, vfs, enabled_drivers, crs_wkt, allow_unsupported_drivers, **kwargs)\u001b[0m\n\u001b[0;32m    333\u001b[0m     path \u001b[38;5;241m=\u001b[39m parse_path(fp)\n\u001b[0;32m    335\u001b[0m \u001b[38;5;28;01mif\u001b[39;00m mode \u001b[38;5;129;01min\u001b[39;00m (\u001b[38;5;124m\"\u001b[39m\u001b[38;5;124ma\u001b[39m\u001b[38;5;124m\"\u001b[39m, \u001b[38;5;124m\"\u001b[39m\u001b[38;5;124mr\u001b[39m\u001b[38;5;124m\"\u001b[39m):\n\u001b[1;32m--> 336\u001b[0m     colxn \u001b[38;5;241m=\u001b[39m \u001b[43mCollection\u001b[49m\u001b[43m(\u001b[49m\n\u001b[0;32m    337\u001b[0m \u001b[43m        \u001b[49m\u001b[43mpath\u001b[49m\u001b[43m,\u001b[49m\n\u001b[0;32m    338\u001b[0m \u001b[43m        \u001b[49m\u001b[43mmode\u001b[49m\u001b[43m,\u001b[49m\n\u001b[0;32m    339\u001b[0m \u001b[43m        \u001b[49m\u001b[43mdriver\u001b[49m\u001b[38;5;241;43m=\u001b[39;49m\u001b[43mdriver\u001b[49m\u001b[43m,\u001b[49m\n\u001b[0;32m    340\u001b[0m \u001b[43m        \u001b[49m\u001b[43mencoding\u001b[49m\u001b[38;5;241;43m=\u001b[39;49m\u001b[43mencoding\u001b[49m\u001b[43m,\u001b[49m\n\u001b[0;32m    341\u001b[0m \u001b[43m        \u001b[49m\u001b[43mlayer\u001b[49m\u001b[38;5;241;43m=\u001b[39;49m\u001b[43mlayer\u001b[49m\u001b[43m,\u001b[49m\n\u001b[0;32m    342\u001b[0m \u001b[43m        \u001b[49m\u001b[43menabled_drivers\u001b[49m\u001b[38;5;241;43m=\u001b[39;49m\u001b[43menabled_drivers\u001b[49m\u001b[43m,\u001b[49m\n\u001b[0;32m    343\u001b[0m \u001b[43m        \u001b[49m\u001b[43mallow_unsupported_drivers\u001b[49m\u001b[38;5;241;43m=\u001b[39;49m\u001b[43mallow_unsupported_drivers\u001b[49m\u001b[43m,\u001b[49m\n\u001b[0;32m    344\u001b[0m \u001b[43m        \u001b[49m\u001b[38;5;241;43m*\u001b[39;49m\u001b[38;5;241;43m*\u001b[39;49m\u001b[43mkwargs\u001b[49m\n\u001b[0;32m    345\u001b[0m \u001b[43m    \u001b[49m\u001b[43m)\u001b[49m\n\u001b[0;32m    346\u001b[0m \u001b[38;5;28;01melif\u001b[39;00m mode \u001b[38;5;241m==\u001b[39m \u001b[38;5;124m\"\u001b[39m\u001b[38;5;124mw\u001b[39m\u001b[38;5;124m\"\u001b[39m:\n\u001b[0;32m    347\u001b[0m     colxn \u001b[38;5;241m=\u001b[39m Collection(\n\u001b[0;32m    348\u001b[0m         path,\n\u001b[0;32m    349\u001b[0m         mode,\n\u001b[1;32m   (...)\u001b[0m\n\u001b[0;32m    358\u001b[0m         \u001b[38;5;241m*\u001b[39m\u001b[38;5;241m*\u001b[39mkwargs\n\u001b[0;32m    359\u001b[0m     )\n",
      "File \u001b[1;32m~\\anaconda3\\envs\\Project_EGM722\\Lib\\site-packages\\fiona\\collection.py:243\u001b[0m, in \u001b[0;36mCollection.__init__\u001b[1;34m(self, path, mode, driver, schema, crs, encoding, layer, vsi, archive, enabled_drivers, crs_wkt, ignore_fields, ignore_geometry, include_fields, wkt_version, allow_unsupported_drivers, **kwargs)\u001b[0m\n\u001b[0;32m    241\u001b[0m \u001b[38;5;28;01mif\u001b[39;00m \u001b[38;5;28mself\u001b[39m\u001b[38;5;241m.\u001b[39mmode \u001b[38;5;241m==\u001b[39m \u001b[38;5;124m\"\u001b[39m\u001b[38;5;124mr\u001b[39m\u001b[38;5;124m\"\u001b[39m:\n\u001b[0;32m    242\u001b[0m     \u001b[38;5;28mself\u001b[39m\u001b[38;5;241m.\u001b[39msession \u001b[38;5;241m=\u001b[39m Session()\n\u001b[1;32m--> 243\u001b[0m     \u001b[38;5;28;43mself\u001b[39;49m\u001b[38;5;241;43m.\u001b[39;49m\u001b[43msession\u001b[49m\u001b[38;5;241;43m.\u001b[39;49m\u001b[43mstart\u001b[49m\u001b[43m(\u001b[49m\u001b[38;5;28;43mself\u001b[39;49m\u001b[43m,\u001b[49m\u001b[43m \u001b[49m\u001b[38;5;241;43m*\u001b[39;49m\u001b[38;5;241;43m*\u001b[39;49m\u001b[43mkwargs\u001b[49m\u001b[43m)\u001b[49m\n\u001b[0;32m    244\u001b[0m \u001b[38;5;28;01melif\u001b[39;00m \u001b[38;5;28mself\u001b[39m\u001b[38;5;241m.\u001b[39mmode \u001b[38;5;129;01min\u001b[39;00m (\u001b[38;5;124m\"\u001b[39m\u001b[38;5;124ma\u001b[39m\u001b[38;5;124m\"\u001b[39m, \u001b[38;5;124m\"\u001b[39m\u001b[38;5;124mw\u001b[39m\u001b[38;5;124m\"\u001b[39m):\n\u001b[0;32m    245\u001b[0m     \u001b[38;5;28mself\u001b[39m\u001b[38;5;241m.\u001b[39msession \u001b[38;5;241m=\u001b[39m WritingSession()\n",
      "File \u001b[1;32mfiona\\ogrext.pyx:588\u001b[0m, in \u001b[0;36mfiona.ogrext.Session.start\u001b[1;34m()\u001b[0m\n",
      "File \u001b[1;32mfiona\\ogrext.pyx:143\u001b[0m, in \u001b[0;36mfiona.ogrext.gdal_open_vector\u001b[1;34m()\u001b[0m\n",
      "\u001b[1;31mDriverError\u001b[0m: C:\\Users\\dubuc\\OneDrive\\Documents\\GitHub\\EGM722_Project\\Project_datafiles\\Building_Fermanagh.shp: No such file or directory"
     ]
    }
   ],
   "source": [
    "#Import the different data files used for the analyses\n",
    "\n",
    "flood= gpd.read_file(os.path.abspath('Project_datafiles/Flood_2m.shp'))\n",
    "roads= gpd.read_file(os.path.abspath('Project_datafiles/Fermanagh_roads.shp'))\n",
    "buildings= gpd.read_file(os.path.abspath('Project_datafiles/Building_Fermanagh.shp'))\n",
    "pop_demography=gpd.read_file(os.path.abspath('Project_datafiles/popdemography.csv'))\n",
    "outline = gpd.read_file(os.path.abspath('Project_datafiles/Fermanagh_DCA.shp'))\n",
    "small_area= gpd.read_file(os.path.abspath('Project_datafiles/SApoly.shp'))\n",
    "land_cover= gpd.read_file(os.path.abspath('Project_datafiles/LC_Fermanagh.shp'))"
   ]
  },
  {
   "cell_type": "code",
   "execution_count": null,
   "id": "8d654f6c",
   "metadata": {
    "scrolled": true
   },
   "outputs": [],
   "source": [
    "#Merge the pop_demography csv with the small_area shapefile using the SA2011 column as the common column\n",
    "small_area =gpd.GeoDataFrame(pop_demography.merge(small_area, on=\"SA2011\"))\n",
    "small_area.head()"
   ]
  },
  {
   "cell_type": "code",
   "execution_count": null,
   "id": "1d172c17",
   "metadata": {
    "scrolled": true
   },
   "outputs": [],
   "source": [
    "#Set the geometry column and edit the column name to geometry\n",
    "small_area.rename(columns={'geometry_y':'geometry'}, inplace=True)\n",
    "\n",
    "small_area.set_geometry('geometry')"
   ]
  },
  {
   "cell_type": "code",
   "execution_count": null,
   "id": "66fe4366",
   "metadata": {},
   "outputs": [],
   "source": [
    "# Set the columns data type to integer instead of string\n",
    "small_area['residents'] = small_area['residents'].astype(int)\n",
    "small_area['Shape_Area'] = small_area['Shape_Area'].astype(int)\n",
    "small_area['elderly'] = small_area['elderly'].astype(int)\n",
    "small_area['children'] = small_area['children'].astype(int)"
   ]
  },
  {
   "cell_type": "code",
   "execution_count": null,
   "id": "90cad31a",
   "metadata": {},
   "outputs": [],
   "source": [
    "# Create a population density, percentage of elderly and percentage of children columns and show the new geodatabase\n",
    "\n",
    "for ind, row in small_area.iterrows(): \n",
    "    small_area.loc[ind, 'pop_density'] = row['residents']/ row['Shape_Area']* 1000000\n",
    "\n",
    "\n",
    "for ind, row in small_area.iterrows(): \n",
    "    small_area.loc[ind, 'per_elderly'] = row['elderly']/ row['residents']* 100\n",
    "    \n",
    "for ind, row in small_area.iterrows():\n",
    "    small_area.loc[ind, 'per_children'] = row['children']/ row['residents']* 100\n",
    "    \n",
    "print(small_area.head())"
   ]
  },
  {
   "cell_type": "code",
   "execution_count": null,
   "id": "94e10c0a",
   "metadata": {},
   "outputs": [],
   "source": [
    "# Set the Geographic Coordinate system to the Irish Transverse Mercator for all shapefiles\n",
    "flood.to_crs(epsg = 2157)\n",
    "roads.to_crs(epsg = 2157)\n",
    "buildings.to_crs(epsg = 2157)\n",
    "outline.to_crs(epsg = 2157)\n",
    "small_area.to_crs(epsg = 2157)\n",
    "land_cover.to_crs(epsg = 2157)"
   ]
  },
  {
   "cell_type": "code",
   "execution_count": null,
   "id": "7f9a31dd",
   "metadata": {},
   "outputs": [],
   "source": [
    "# Create a function to subset the shapefiles based on the flood polygon\n",
    "def flooded(shapefile):\n",
    "    flood_geom = flood['geometry'].values[0]\n",
    "    flooded = shapefile['geometry'].within(flood_geom)\n",
    "    return shapefile['geometry'].within(flood_geom)\n"
   ]
  },
  {
   "cell_type": "markdown",
   "id": "eca29510",
   "metadata": {},
   "source": [
    "# Part 2: Impact on the landcover analyses and map"
   ]
  },
  {
   "cell_type": "code",
   "execution_count": null,
   "id": "d969f21a",
   "metadata": {},
   "outputs": [],
   "source": [
    "#Create a new figure set to the Irish Transverse Mercator\n",
    "\n",
    "myFig = plt.figure(figsize=(12, 12))\n",
    "\n",
    "myCRS = ccrs.UTM(29)  \n",
    "ax = plt.axes(projection=myCRS) "
   ]
  },
  {
   "cell_type": "code",
   "execution_count": null,
   "id": "f8ec79c5",
   "metadata": {},
   "outputs": [],
   "source": [
    "# Add the outline for Fermanagh County and zoom to the extent of the flood polygon\n",
    "outline_feature = ShapelyFeature(outline['geometry'], myCRS, edgecolor='k', facecolor='w')\n",
    "xmin, ymin, xmax, ymax = flood.total_bounds\n",
    "ax.add_feature(outline_feature) # add the features we've created to the map.\n",
    "ax.set_extent([xmin-1000, xmax+1000, ymin-1000, ymax+1000], crs=myCRS)\n"
   ]
  },
  {
   "cell_type": "code",
   "execution_count": null,
   "id": "457894b1",
   "metadata": {},
   "outputs": [],
   "source": [
    "# Check the number of Landcover type present in the dataset\n",
    "landcover= len(land_cover.LAND_COVER.unique())\n",
    "print('Number of unique features: {}'.format(landcover))\n",
    "list_landcover = list(lc.LAND_COVER.unique())\n",
    "print(list_lc) # prints a list of unique land covers"
   ]
  },
  {
   "cell_type": "code",
   "execution_count": null,
   "id": "7f481dd4",
   "metadata": {},
   "outputs": [],
   "source": [
    "# Assign a color for each landcover type \n",
    "land_cover_colors = ['springgreen','olive', 'sienna','darkred', 'lawngreen', 'forestgreen','yellowgreen', 'y','darkgreen','darkorange','lightgrey','gold','black','grey']\n",
    "landcover=list(land_cover.LAND_COVER.unique())\n",
    "for ii, name in enumerate(landcover):\n",
    "    feat = ShapelyFeature(land_cover.loc[land_cover['LAND_COVER'] == name, 'geometry'], # first argument is the geometry\n",
    "                          myCRS, # second argument is the CRS\n",
    "                          edgecolor='k', # outline the feature in black\n",
    "                          facecolor=land_cover_colors[ii],\n",
    "                        linewidth=0.1,\n",
    "                         alpha=0.8) # set the face color to the corresponding color from the list\n",
    "                           # set the outline width to be 1 pt\n",
    "                           # set the alpha (transparency) to be 0.25 (out of 1)\n",
    "    ax.add_feature(feat)\n"
   ]
  },
  {
   "cell_type": "code",
   "execution_count": null,
   "id": "ef49e244",
   "metadata": {
    "scrolled": true
   },
   "outputs": [],
   "source": [
    "flood_feature = ShapelyFeature(flood['geometry'], myCRS, edgecolor='k',facecolor='navy',alpha=1,linewidth=0.1)\n",
    "ax.add_feature(flood_feature)\n"
   ]
  },
  {
   "cell_type": "code",
   "execution_count": null,
   "id": "2b8fbaa2",
   "metadata": {},
   "outputs": [],
   "source": [
    "landcover_handles = generate_handles(land_cover.LAND_COVER.unique(), land_cover_colors)\n",
    "flood_handles = generate_handles(['Flood'], ['navy'])"
   ]
  },
  {
   "cell_type": "code",
   "execution_count": null,
   "id": "50bc88f5",
   "metadata": {
    "scrolled": true
   },
   "outputs": [],
   "source": [
    "# ax.legend() takes a list of handles and a list of labels corresponding to the objects\n",
    "# you want to add to the legend\n",
    "handles = landcover_handles  + flood_handles # use '+' to concatenate (combine) lists\n",
    "labels = landcover + ['Flood']\n",
    "\n",
    "leg = ax.legend(handles, labels, title='Legend', title_fontsize=12,\n",
    "                 fontsize=10, loc='lower left', frameon=True, framealpha=1)\n",
    "\n",
    "gridlines = ax.gridlines(draw_labels=True, alpha=1, edgecolor='k') # draw  labels for the grid lines\n",
    "                         \n",
    "gridlines.left_labels = False # turn off the left-side labels\n",
    "gridlines.bottom_labels = False\n",
    "\n",
    "scale_bar(ax)\n",
    "myFig # to show the updated figure\n",
    "myFig.savefig('land_cover.png')"
   ]
  },
  {
   "cell_type": "code",
   "execution_count": null,
   "id": "ccd1755c",
   "metadata": {},
   "outputs": [],
   "source": [
    "lc_flooded = underwater(land_cover) # call underwater function to select land parcels in 5m flood zone\n",
    "land_flooded = land_cover[lc_flooded] # subset the land cover shapefile to include only underwater = true\n",
    "print(land_flooded[['LAND_COVER','Shape_Area']])"
   ]
  },
  {
   "cell_type": "code",
   "execution_count": null,
   "id": "779bc382",
   "metadata": {},
   "outputs": [],
   "source": [
    "land_flooded.groupby(['LAND_COVER'])['Shape_Area'].sum().sort_values(ascending=False)"
   ]
  },
  {
   "cell_type": "markdown",
   "id": "d4c60ea6",
   "metadata": {},
   "source": [
    "# Part 3: Infrastructure and population analyses and map"
   ]
  },
  {
   "cell_type": "code",
   "execution_count": null,
   "id": "c34ab0f7",
   "metadata": {},
   "outputs": [],
   "source": [
    "myCRS = ccrs.UTM(29)\n",
    "# create a figure of size 10x10 (representing the page size in inches\n",
    "myFig2, ax = plt.subplots(1, 1, figsize=(10, 10), subplot_kw=dict(projection=myCRS))  # create a Universal Transverse Mercator reference system to transform our data.\n",
    "# be sure to fill in XX above with the correct number for the UTM Zone that Northern Ireland is part of.\n",
    "# finally, create an axes object in the figure, using a UTM projection,\n",
    "# where we can actually plot our data.\n",
    "\n",
    "#myFig2, ax = plt.subplots(1, 1, figsize=(10, 10), subplot_kw=dict(projection=myCRS))\n",
    "\n",
    "\n",
    "  # create a figure of size 10x10 (representing the page size in inches)\n",
    "  # create a Universal Transverse Mercator reference system to transform our data.\n",
    "# be sure to fill in XX above with the correct number for the UTM Zone that Northern Ireland is part of. \n",
    "# first, we just add the outline of Northern Ireland using cartopy's ShapelyFeature\n"
   ]
  },
  {
   "cell_type": "code",
   "execution_count": null,
   "id": "e6a9fbee",
   "metadata": {},
   "outputs": [],
   "source": [
    "flood_feature = ShapelyFeature(flood['geometry'], myCRS, edgecolor='k',facecolor='none',alpha=0.5,linewidth=0.5)\n",
    "ax.add_feature(flood_feature)\n",
    "outline_feature = ShapelyFeature(outline['geometry'], myCRS, edgecolor='k', facecolor='w')\n",
    "xmin, ymin, xmax, ymax = flood.total_bounds\n",
    "ax.set_extent([xmin-1000, xmax+1000, ymin-1000, ymax+1000], crs=myCRS)\n",
    "#ax.add_feature(outline_feature)"
   ]
  },
  {
   "cell_type": "code",
   "execution_count": null,
   "id": "d8f5d583",
   "metadata": {},
   "outputs": [],
   "source": [
    "\n",
    "\n",
    "roads_feature = ShapelyFeature(roads['geometry'], myCRS, edgecolor='k', linewidth=1)\n",
    "ax.add_feature(roads_feature)\n"
   ]
  },
  {
   "cell_type": "code",
   "execution_count": null,
   "id": "3d8b6fd2",
   "metadata": {},
   "outputs": [],
   "source": [
    "# ShapelyFeature creates a polygon, so for point data we can just use ax.plot()\n",
    "residential=buildings.loc[buildings['CLASSIFICA']=='Residential']\n",
    "residential_handle= ax.plot(residential.geometry.x, residential.geometry.y, 's', color='b', ms=2, transform=myCRS)\n",
    "\n",
    "commercial=buildings.loc[buildings['CLASSIFICA']=='Commercial']\n",
    "commercial_handle=ax.plot(commercial.geometry.x, commercial.geometry.y, 'o', color='k', ms=2, transform=myCRS)\n",
    "\n",
    "education=buildings.loc[buildings['CLASSIFICA']=='Education']\n",
    "education_handle=ax.plot(education.geometry.x, education.geometry.y, '^', color='g', ms=2, transform=myCRS)\n",
    "\n",
    "health=buildings.loc[buildings['CLASSIFICA']=='Health']\n",
    "health_handle=ax.plot(health.geometry.x, health.geometry.y, '*', color='r', ms=2, transform=myCRS)\n",
    "\n",
    "other=buildings.loc[buildings['CLASSIFICA']=='Other']\n",
    "other_handle=ax.plot(other.geometry.x, other.geometry.y, 'h', color='y', ms=2, transform=myCRS)\n",
    "\n"
   ]
  },
  {
   "cell_type": "code",
   "execution_count": null,
   "id": "26e8719f",
   "metadata": {},
   "outputs": [],
   "source": [
    "# set a variable that will call whatever column we want to visualise on the map\n",
    "#myFig2= small_area.explore('population_density', cmap='viridis')\n",
    "# set the range for the choropleth\n",
    "\n",
    "divider = make_axes_locatable(ax)\n",
    "cax = divider.append_axes(\"right\", size=\"5%\", pad=0.1, axes_class=plt.Axes)\n",
    "\n",
    "#pop_density=small_area.plot(column='residents', ax=ax, vmax=10000, cmap='magma',\n",
    "                       #legend=True, cax=cax, legend_kwds={'label': 'Resident Population'})\n"
   ]
  },
  {
   "cell_type": "code",
   "execution_count": null,
   "id": "328d6e20",
   "metadata": {},
   "outputs": [],
   "source": [
    "small_area_plot=small_area.plot(column='pop_density', ax=ax, vmax=100, cmap='YlOrRd',\n",
    "                       legend=True, cax=cax, legend_kwds={'label': 'Population Density'})\n",
    "\n",
    "#small_area_plot=small_area.plot(column='per_elderly', ax=ax, vmax=30, cmap='YlOrRd',\n",
    "                       #legend=True, cax=cax, legend_kwds={'label': 'Percentage of elderly'})\n",
    "\n",
    "#small_area_plot=small_area.plot(column='per_children', ax=ax, vmax=30, cmap='YlOrRd',\n",
    "                       #legend=True, cax=cax, legend_kwds={'label': 'Percentage of children'})\n",
    "\n",
    "sa_outline = ShapelyFeature(small_area['geometry'], myCRS, edgecolor='r',linewidth=0.05, facecolor='none')\n",
    "ax.add_feature(sa_outline)\n",
    "myFig2"
   ]
  },
  {
   "cell_type": "code",
   "execution_count": null,
   "id": "1ac5c195",
   "metadata": {},
   "outputs": [],
   "source": [
    "roads_handle = [mlines.Line2D([], [], color='k')]\n",
    "flood_handle = generate_handles(['Flood'], ['navy'])"
   ]
  },
  {
   "cell_type": "code",
   "execution_count": null,
   "id": "fbb082cd",
   "metadata": {},
   "outputs": [],
   "source": [
    "# ax.legend() takes a list of handles and a list of labels corresponding to the objects\n",
    "# you want to add to the legend\n",
    "handles = roads_handle  + flood_handle + residential_handle + commercial_handle + other_handle + health_handle + education_handle # use '+' to concatenate (combine) lists\n",
    "labels = ['Roads'] + ['Flood'] + ['Residential'] + ['Commercial'] + ['Other'] + ['Health'] + ['Education']\n",
    "\n",
    "leg = ax.legend(handles, labels, title='Legend', title_fontsize=12,\n",
    "                 fontsize=10, loc='lower left',markerscale=4, frameon=True, framealpha=1)\n",
    "\n",
    "\n",
    "gridlines = ax.gridlines(draw_labels=True, alpha=1, edgecolor='k') # draw  labels for the grid lines\n",
    "                         \n",
    "gridlines.right_labels = False # turn off the left-side labels\n",
    "gridlines.bottom_labels = False\n",
    "\n",
    "scale_bar(ax)\n",
    "myFig2 # to show the updated figure\n",
    "myFig2.savefig('infrastructure_population.png')"
   ]
  },
  {
   "cell_type": "code",
   "execution_count": null,
   "id": "063b8f89",
   "metadata": {},
   "outputs": [],
   "source": [
    "build_flooded = underwater(buildings) # call underwater function to select land parcels in 5m flood zone\n",
    "building_flooded = buildings[build_flooded] # subset the land cover shapefile to include only underwater = true\n",
    "\n",
    "rd_flooded = underwater(roads) # call underwater function to select land parcels in 5m flood zone\n",
    "roads_flooded = roads[rd_flooded] # subset the land cover shapefile to include only underwater = true\n",
    "\n",
    "sa_flooded = small_area.sjoin(flood, how=\"inner\") # call underwater function to select land parcels in 5m flood zone\n",
    " # subset the land cover shapefile to include only underwater = true\n",
    "sa_flooded['SA2011'].count()"
   ]
  },
  {
   "cell_type": "code",
   "execution_count": null,
   "id": "38a195db",
   "metadata": {},
   "outputs": [],
   "source": [
    "sum_roads = roads_flooded['Length'].sum() /1000\n",
    "sum_motorway = roads_flooded[roads_flooded['CLASS'] == 'A']['Length'].sum() /1000\n",
    "print('{:.2f} total km of roads'.format(sum_roads))\n",
    "print('{:.2f} total km of A class road'.format(sum_motorway))"
   ]
  },
  {
   "cell_type": "code",
   "execution_count": null,
   "id": "74c60a3a",
   "metadata": {},
   "outputs": [],
   "source": [
    "building_flooded.groupby(['CLASSIFICA'])['CLASSIFICA'].count().sort_values(ascending=False)"
   ]
  },
  {
   "cell_type": "code",
   "execution_count": null,
   "id": "cd5b4a58",
   "metadata": {},
   "outputs": [],
   "source": [
    "high_density= sa_flooded[sa_flooded.pop_density==sa_flooded.pop_density.max()]\n",
    "print(high_density[['SA2011', 'pop_density']])"
   ]
  },
  {
   "cell_type": "code",
   "execution_count": null,
   "id": "78c28516",
   "metadata": {},
   "outputs": [],
   "source": [
    "sa_flooded.loc[(sa_flooded['per_elderly']>= sa_flooded['per_elderly'].mean())&(sa_flooded['per_children']>= sa_flooded['per_children'].mean())]\n",
    "\n"
   ]
  },
  {
   "cell_type": "code",
   "execution_count": null,
   "id": "3977ee12",
   "metadata": {},
   "outputs": [],
   "source": [
    "sa_flooded.loc[(sa_flooded['pop_density']<= sa_flooded['pop_density'].mean())&(sa_flooded['per_children']>= sa_flooded['per_children'].mean())]"
   ]
  },
  {
   "cell_type": "code",
   "execution_count": null,
   "id": "ca5b432e",
   "metadata": {},
   "outputs": [],
   "source": [
    "#analyses:-tot pop in flood polygon\n",
    "#         - nbr resident houses\n",
    "#         - tot length of road impacted and class A roas\n",
    "#         - Sa with highest pop density and if any are adjacent\n",
    "#         - SA with less than avg pop density\n",
    "#         - which landcover types has highest area in flood poly\n",
    "#         - total area flooded per landcover types\n",
    "#         - SA with highest % of elderly/child\n",
    "#         - SA with low pop density but high child %\n",
    "#         - SA with medical building\n",
    "#         - residential building furtherest from medical build (use original dataset ?)\n",
    "#         - SA centre furthest from medical building"
   ]
  },
  {
   "cell_type": "code",
   "execution_count": null,
   "id": "3682b583",
   "metadata": {},
   "outputs": [],
   "source": [
    "#add scale and legend handle"
   ]
  },
  {
   "cell_type": "code",
   "execution_count": null,
   "id": "1c176352",
   "metadata": {},
   "outputs": [],
   "source": [
    "#create map and add features to map\n",
    "# do second map with landcover"
   ]
  },
  {
   "cell_type": "code",
   "execution_count": null,
   "id": "13c66833",
   "metadata": {},
   "outputs": [],
   "source": [
    "#different labels depending on building class and road class"
   ]
  },
  {
   "cell_type": "code",
   "execution_count": null,
   "id": "6a65b5af",
   "metadata": {},
   "outputs": [],
   "source": [
    "#grid lines"
   ]
  },
  {
   "cell_type": "code",
   "execution_count": null,
   "id": "d92d7264",
   "metadata": {},
   "outputs": [],
   "source": []
  },
  {
   "cell_type": "code",
   "execution_count": null,
   "id": "0cd6cb31",
   "metadata": {},
   "outputs": [],
   "source": []
  },
  {
   "cell_type": "code",
   "execution_count": null,
   "id": "1c648434",
   "metadata": {},
   "outputs": [],
   "source": []
  },
  {
   "cell_type": "code",
   "execution_count": null,
   "id": "403bb83f",
   "metadata": {},
   "outputs": [],
   "source": []
  }
 ],
 "metadata": {
  "kernelspec": {
   "display_name": "Python 3 (ipykernel)",
   "language": "python",
   "name": "python3"
  },
  "language_info": {
   "codemirror_mode": {
    "name": "ipython",
    "version": 3
   },
   "file_extension": ".py",
   "mimetype": "text/x-python",
   "name": "python",
   "nbconvert_exporter": "python",
   "pygments_lexer": "ipython3",
   "version": "3.11.3"
  }
 },
 "nbformat": 4,
 "nbformat_minor": 5
}
