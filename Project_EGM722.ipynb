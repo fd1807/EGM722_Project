{
 "cells": [
  {
   "cell_type": "code",
   "execution_count": 1,
   "id": "661a19e1",
   "metadata": {},
   "outputs": [],
   "source": [
    "#import module\n",
    "import pandas as pd\n",
    "import numpy as np\n",
    "import matplotlib.pyplot as plt\n",
    "import matplotlib.patches as mpatches\n",
    "import matplotlib.lines as mlines\n",
    "import geopandas as gpd\n",
    "from shapely.geometry import Point, LineString, Polygon\n",
    "import os\n",
    "from cartopy.feature import ShapelyFeature\n",
    "import cartopy.crs as ccrs"
   ]
  },
  {
   "cell_type": "code",
   "execution_count": null,
   "id": "bad04971",
   "metadata": {},
   "outputs": [],
   "source": [
    "#import data file: flood, buildings, roads, population excel file, county outline, sa outline"
   ]
  },
  {
   "cell_type": "code",
   "execution_count": null,
   "id": "3682b583",
   "metadata": {},
   "outputs": [],
   "source": [
    "#"
   ]
  }
 ],
 "metadata": {
  "kernelspec": {
   "display_name": "Python 3 (ipykernel)",
   "language": "python",
   "name": "python3"
  },
  "language_info": {
   "codemirror_mode": {
    "name": "ipython",
    "version": 3
   },
   "file_extension": ".py",
   "mimetype": "text/x-python",
   "name": "python",
   "nbconvert_exporter": "python",
   "pygments_lexer": "ipython3",
   "version": "3.9.16"
  }
 },
 "nbformat": 4,
 "nbformat_minor": 5
}
