{
 "cells": [
  {
   "cell_type": "code",
   "execution_count": 1,
   "id": "661a19e1",
   "metadata": {},
   "outputs": [
    {
     "data": {
      "text/plain": [
       "<contextlib.ExitStack at 0x19527e0bb80>"
      ]
     },
     "execution_count": 1,
     "metadata": {},
     "output_type": "execute_result"
    }
   ],
   "source": [
    "# this lets us use the figures interactively\n",
    "%matplotlib inline\n",
    "\n",
    "import os\n",
    "import pandas as pd\n",
    "import geopandas as gpd\n",
    "import matplotlib.pyplot as plt\n",
    "from cartopy.feature import ShapelyFeature\n",
    "import cartopy.crs as ccrs\n",
    "import matplotlib.patches as mpatches\n",
    "import matplotlib.lines as mlines\n",
    "\n",
    "plt.ion() # make the plotting interactive"
   ]
  },
  {
   "cell_type": "code",
   "execution_count": 2,
   "id": "edb3fdd0",
   "metadata": {},
   "outputs": [],
   "source": [
    "# generate matplotlib handles to create a legend of the features we put in our map.\n",
    "def generate_handles(labels, colors, edge='k', alpha=1):\n",
    "    lc = len(colors)  # get the length of the color list\n",
    "    handles = []\n",
    "    for i in range(len(labels)):\n",
    "        handles.append(mpatches.Rectangle((0, 0), 1, 1, facecolor=colors[i % lc], edgecolor=edge, alpha=alpha))\n",
    "    return handles"
   ]
  },
  {
   "cell_type": "code",
   "execution_count": 3,
   "id": "1588efbf",
   "metadata": {},
   "outputs": [],
   "source": [
    "def scale_bar(ax, location=(0.32, 0.95)):\n",
    "    x0, x1, y0, y1 = ax.get_extent()\n",
    "    sbx = x0 + (x1 - x0) * location[0]\n",
    "    sby = y0 + (y1 - y0) * location[1]\n",
    "\n",
    "    ax.plot([sbx, sbx - 10000], [sby, sby], color='k', linewidth=9, transform=ax.projection)\n",
    "    ax.plot([sbx, sbx - 5000], [sby, sby], color='k', linewidth=6, transform=ax.projection)\n",
    "    ax.plot([sbx-5000, sbx - 10000], [sby, sby], color='w', linewidth=6, transform=ax.projection)\n",
    "\n",
    "    ax.text(sbx, sby-1000, '10 km', transform=ax.projection, fontsize=10)\n",
    "    ax.text(sbx-5000, sby-1000, '5 km', transform=ax.projection, fontsize=10)\n",
    "    ax.text(sbx-8000, sby-1000, '0 km', transform=ax.projection, fontsize=10)\n"
   ]
  },
  {
   "cell_type": "code",
   "execution_count": 4,
   "id": "bad04971",
   "metadata": {},
   "outputs": [],
   "source": [
    "#import data file: flood, buildings, roads, population excel file, county outline, sa outline\n",
    "flood= gpd.read_file(os.path.abspath('Project_datafiles/Flood_2m.shp'))\n",
    "roads= gpd.read_file(os.path.abspath('Project_datafiles/Fermanagh_roads.shp'))\n",
    "buildings= gpd.read_file(os.path.abspath('Project_datafiles/Building_Fermanagh.shp'))\n",
    "pop_demography=gpd.read_file(os.path.abspath('Project_datafiles/pop_demography.csv'))\n",
    "outline = gpd.read_file(os.path.abspath('Project_datafiles/Fermanagh_DCA.shp'))\n",
    "small_area= gpd.read_file(os.path.abspath('Project_datafiles/SA_poly.shp'))\n",
    "land_cover= gpd.read_file(os.path.abspath('Project_datafiles/LC_Fermanagh.shp'))"
   ]
  },
  {
   "cell_type": "code",
   "execution_count": 5,
   "id": "8d654f6c",
   "metadata": {
    "scrolled": true
   },
   "outputs": [
    {
     "data": {
      "text/html": [
       "<div>\n",
       "<style scoped>\n",
       "    .dataframe tbody tr th:only-of-type {\n",
       "        vertical-align: middle;\n",
       "    }\n",
       "\n",
       "    .dataframe tbody tr th {\n",
       "        vertical-align: top;\n",
       "    }\n",
       "\n",
       "    .dataframe thead th {\n",
       "        text-align: right;\n",
       "    }\n",
       "</style>\n",
       "<table border=\"1\" class=\"dataframe\">\n",
       "  <thead>\n",
       "    <tr style=\"text-align: right;\">\n",
       "      <th></th>\n",
       "      <th>SA_Code</th>\n",
       "      <th>Age_75</th>\n",
       "      <th>Children_9</th>\n",
       "      <th>residents</th>\n",
       "      <th>geometry_x</th>\n",
       "      <th>SA</th>\n",
       "      <th>Shape_Leng</th>\n",
       "      <th>Shape_Area</th>\n",
       "      <th>geometry_y</th>\n",
       "    </tr>\n",
       "  </thead>\n",
       "  <tbody>\n",
       "    <tr>\n",
       "      <th>0</th>\n",
       "      <td>N00002912</td>\n",
       "      <td>25</td>\n",
       "      <td>38</td>\n",
       "      <td>345</td>\n",
       "      <td>None</td>\n",
       "      <td>Ballinamallard ward</td>\n",
       "      <td>26671.860028</td>\n",
       "      <td>1.255163e+07</td>\n",
       "      <td>POLYGON ((227161.047 350213.156, 227161.109 35...</td>\n",
       "    </tr>\n",
       "    <tr>\n",
       "      <th>1</th>\n",
       "      <td>N00002921</td>\n",
       "      <td>21</td>\n",
       "      <td>31</td>\n",
       "      <td>309</td>\n",
       "      <td>None</td>\n",
       "      <td>Belcoo and Garrison ward</td>\n",
       "      <td>62798.682569</td>\n",
       "      <td>8.317093e+07</td>\n",
       "      <td>POLYGON ((206591.234 353513.594, 206598.359 35...</td>\n",
       "    </tr>\n",
       "    <tr>\n",
       "      <th>2</th>\n",
       "      <td>N00002922</td>\n",
       "      <td>33</td>\n",
       "      <td>65</td>\n",
       "      <td>468</td>\n",
       "      <td>None</td>\n",
       "      <td>Belcoo and Garrison ward</td>\n",
       "      <td>47129.291829</td>\n",
       "      <td>2.964456e+07</td>\n",
       "      <td>POLYGON ((195507.891 357313.719, 195458.531 35...</td>\n",
       "    </tr>\n",
       "    <tr>\n",
       "      <th>3</th>\n",
       "      <td>N00002924</td>\n",
       "      <td>19</td>\n",
       "      <td>31</td>\n",
       "      <td>386</td>\n",
       "      <td>None</td>\n",
       "      <td>Belleek and Boa ward</td>\n",
       "      <td>6016.303226</td>\n",
       "      <td>6.970221e+05</td>\n",
       "      <td>POLYGON ((194939.719 358792.812, 194937.359 35...</td>\n",
       "    </tr>\n",
       "    <tr>\n",
       "      <th>4</th>\n",
       "      <td>N00002925</td>\n",
       "      <td>20</td>\n",
       "      <td>43</td>\n",
       "      <td>311</td>\n",
       "      <td>None</td>\n",
       "      <td>Belleek and Boa ward</td>\n",
       "      <td>19160.475195</td>\n",
       "      <td>7.193503e+06</td>\n",
       "      <td>POLYGON ((197286.328 359952.875, 197299.969 35...</td>\n",
       "    </tr>\n",
       "  </tbody>\n",
       "</table>\n",
       "</div>"
      ],
      "text/plain": [
       "     SA_Code Age_75 Children_9 residents geometry_x                        SA   \n",
       "0  N00002912     25         38       345       None       Ballinamallard ward  \\\n",
       "1  N00002921     21         31       309       None  Belcoo and Garrison ward   \n",
       "2  N00002922     33         65       468       None  Belcoo and Garrison ward   \n",
       "3  N00002924     19         31       386       None      Belleek and Boa ward   \n",
       "4  N00002925     20         43       311       None      Belleek and Boa ward   \n",
       "\n",
       "     Shape_Leng    Shape_Area   \n",
       "0  26671.860028  1.255163e+07  \\\n",
       "1  62798.682569  8.317093e+07   \n",
       "2  47129.291829  2.964456e+07   \n",
       "3   6016.303226  6.970221e+05   \n",
       "4  19160.475195  7.193503e+06   \n",
       "\n",
       "                                          geometry_y  \n",
       "0  POLYGON ((227161.047 350213.156, 227161.109 35...  \n",
       "1  POLYGON ((206591.234 353513.594, 206598.359 35...  \n",
       "2  POLYGON ((195507.891 357313.719, 195458.531 35...  \n",
       "3  POLYGON ((194939.719 358792.812, 194937.359 35...  \n",
       "4  POLYGON ((197286.328 359952.875, 197299.969 35...  "
      ]
     },
     "execution_count": 5,
     "metadata": {},
     "output_type": "execute_result"
    }
   ],
   "source": [
    "small_area =gpd.GeoDataFrame(pop_demography.merge(small_area, on=\"SA_Code\"))\n",
    "small_area.head()"
   ]
  },
  {
   "cell_type": "code",
   "execution_count": 6,
   "id": "1d172c17",
   "metadata": {
    "scrolled": true
   },
   "outputs": [
    {
     "data": {
      "text/plain": [
       "0     POLYGON ((227161.047 350213.156, 227161.109 35...\n",
       "1     POLYGON ((206591.234 353513.594, 206598.359 35...\n",
       "2     POLYGON ((195507.891 357313.719, 195458.531 35...\n",
       "3     POLYGON ((194939.719 358792.812, 194937.359 35...\n",
       "4     POLYGON ((197286.328 359952.875, 197299.969 35...\n",
       "5     POLYGON ((217257.859 365303.062, 217235.938 36...\n",
       "6     POLYGON ((212900.172 360800.438, 212843.938 36...\n",
       "7     POLYGON ((220325.609 345147.219, 220319.203 34...\n",
       "8     POLYGON ((224635.609 343878.469, 224633.797 34...\n",
       "9     POLYGON ((226659.703 344481.781, 226657.734 34...\n",
       "10    POLYGON ((219265.688 352138.938, 219333.734 35...\n",
       "11    POLYGON ((214762.625 357207.594, 214790.938 35...\n",
       "12    POLYGON ((223555.719 345060.031, 223554.516 34...\n",
       "13    POLYGON ((223486.719 344807.031, 223465.156 34...\n",
       "14    POLYGON ((223129.719 345194.031, 223142.109 34...\n",
       "15    POLYGON ((224110.750 344338.406, 224110.234 34...\n",
       "16    POLYGON ((223045.547 347631.688, 223045.297 34...\n",
       "17    POLYGON ((223980.281 345782.031, 223981.000 34...\n",
       "18    POLYGON ((224111.766 349058.281, 224109.562 34...\n",
       "19    POLYGON ((218715.750 363219.844, 218715.969 36...\n",
       "20    POLYGON ((218715.750 363219.844, 218713.547 36...\n",
       "21    POLYGON ((224123.125 364122.562, 224122.422 36...\n",
       "22    POLYGON ((230899.266 344143.406, 230881.750 34...\n",
       "23    POLYGON ((218389.844 359373.844, 218419.234 35...\n",
       "24    POLYGON ((224411.969 352049.906, 224408.625 35...\n",
       "25    POLYGON ((224177.234 350964.719, 224162.812 35...\n",
       "26    POLYGON ((222907.969 344668.344, 222934.750 34...\n",
       "27    POLYGON ((223342.344 344545.875, 223350.484 34...\n",
       "28    POLYGON ((222762.422 344467.188, 222761.953 34...\n",
       "29    POLYGON ((222977.609 344622.469, 222977.422 34...\n",
       "30    POLYGON ((222248.062 344096.125, 222246.875 34...\n",
       "31    POLYGON ((224092.594 343879.969, 224094.469 34...\n",
       "32    POLYGON ((221893.922 346642.531, 221936.750 34...\n",
       "33    POLYGON ((222602.781 345116.094, 222603.812 34...\n",
       "34    POLYGON ((223164.062 343725.125, 223164.375 34...\n",
       "35    POLYGON ((223472.391 342743.750, 223464.234 34...\n",
       "36    POLYGON ((222444.516 343167.688, 222444.016 34...\n",
       "37    POLYGON ((222675.516 342998.688, 222676.984 34...\n",
       "38    POLYGON ((222226.516 342566.688, 222227.172 34...\n",
       "39    POLYGON ((223024.516 343200.688, 223025.969 34...\n",
       "40    POLYGON ((221641.766 345253.719, 221646.312 34...\n",
       "41    POLYGON ((222745.516 343989.250, 222743.344 34...\n",
       "Name: geometry_y, dtype: geometry"
      ]
     },
     "execution_count": 6,
     "metadata": {},
     "output_type": "execute_result"
    }
   ],
   "source": [
    "small_area= small_area.set_geometry('geometry_y')\n",
    "small_area.geometry"
   ]
  },
  {
   "cell_type": "code",
   "execution_count": 7,
   "id": "66fe4366",
   "metadata": {},
   "outputs": [],
   "source": [
    "small_area['residents'] = small_area['residents'].astype(int)\n",
    "small_area['Shape_Area'] = small_area['Shape_Area'].astype(int)\n"
   ]
  },
  {
   "cell_type": "code",
   "execution_count": 10,
   "id": "90cad31a",
   "metadata": {},
   "outputs": [
    {
     "name": "stdout",
     "output_type": "stream",
     "text": [
      "     SA_Code Age_75 Children_9  residents geometry_x   \n",
      "0  N00002912     25         38        345       None  \\\n",
      "1  N00002921     21         31        309       None   \n",
      "2  N00002922     33         65        468       None   \n",
      "3  N00002924     19         31        386       None   \n",
      "4  N00002925     20         43        311       None   \n",
      "\n",
      "                         SA    Shape_Leng  Shape_Area   \n",
      "0       Ballinamallard ward  26671.860028    12551625  \\\n",
      "1  Belcoo and Garrison ward  62798.682569    83170934   \n",
      "2  Belcoo and Garrison ward  47129.291829    29644558   \n",
      "3      Belleek and Boa ward   6016.303226      697022   \n",
      "4      Belleek and Boa ward  19160.475195     7193502   \n",
      "\n",
      "                                          geometry_y  population_density  \n",
      "0  POLYGON ((227161.047 350213.156, 227161.109 35...           27.486481  \n",
      "1  POLYGON ((206591.234 353513.594, 206598.359 35...            3.715240  \n",
      "2  POLYGON ((195507.891 357313.719, 195458.531 35...           15.787046  \n",
      "3  POLYGON ((194939.719 358792.812, 194937.359 35...          553.784529  \n",
      "4  POLYGON ((197286.328 359952.875, 197299.969 35...           43.233463  \n"
     ]
    }
   ],
   "source": [
    "for ind, row in small_area.iterrows(): # iterate over each row in the GeoDataFrame\n",
    "    small_area.loc[ind, 'population_density'] = row['residents']/ row['Shape_Area'] * 1000000\n",
    "print(small_area.head())"
   ]
  },
  {
   "cell_type": "code",
   "execution_count": null,
   "id": "94e10c0a",
   "metadata": {},
   "outputs": [],
   "source": [
    "flood.to_crs(epsg = 2157)\n",
    "roads.to_crs(epsg = 2157)\n",
    "buildings.to_crs(epsg = 2157)\n",
    "outline.to_crs(epsg = 2157)\n",
    "small_area.to_crs(epsg = 2157)\n",
    "land_cover.to_crs(epsg = 2157)"
   ]
  },
  {
   "cell_type": "code",
   "execution_count": null,
   "id": "7f9a31dd",
   "metadata": {},
   "outputs": [],
   "source": [
    "def underwater(shapefile):\n",
    "    flood_geom = flood['geometry'].values[0]\n",
    "    underwater = shapefile['geometry'].within(flood_geom)\n",
    "    return shapefile['geometry'].within(flood_geom)"
   ]
  },
  {
   "cell_type": "code",
   "execution_count": null,
   "id": "310a1f1e",
   "metadata": {},
   "outputs": [],
   "source": [
    "lc_flooded = underwater(land_cover) # call underwater function to select land parcels in 5m flood zone\n",
    "land_flooded = land_cover[lc_flooded] # subset the land cover shapefile to include only underwater = true\n",
    "print(land_flooded)"
   ]
  },
  {
   "cell_type": "code",
   "execution_count": null,
   "id": "d969f21a",
   "metadata": {},
   "outputs": [],
   "source": [
    "myFig = plt.figure(figsize=(12, 12))  # create a figure of size 10x10 (representing the page size in inches)\n",
    "\n",
    "myCRS = ccrs.UTM(29)  # create a Universal Transverse Mercator reference system to transform our data.\n",
    "# be sure to fill in XX above with the correct number for the UTM Zone that Northern Ireland is part of.\n",
    "\n",
    "ax = plt.axes(projection=myCRS)  # finally, create an axes object in the figure, using a UTM projection,\n",
    "# where we can actually plot our data."
   ]
  },
  {
   "cell_type": "code",
   "execution_count": null,
   "id": "f8ec79c5",
   "metadata": {},
   "outputs": [],
   "source": [
    "# first, we just add the outline of Northern Ireland using cartopy's ShapelyFeature\n",
    "outline_feature = ShapelyFeature(outline['geometry'], myCRS, edgecolor='k', facecolor='w')\n",
    "xmin, ymin, xmax, ymax = flood.total_bounds\n",
    "ax.add_feature(outline_feature) # add the features we've created to the map.\n",
    "ax.set_extent([xmin-1000, xmax+1000, ymin-1000, ymax+1000], crs=myCRS)\n"
   ]
  },
  {
   "cell_type": "code",
   "execution_count": null,
   "id": "457894b1",
   "metadata": {},
   "outputs": [],
   "source": [
    "# get the number of unique municipalities we have in the dataset\n",
    "landcover_type = len(land_cover.LAND_COVER.unique())\n",
    "print('Number of unique features: {}'.format(landcover_type))\n",
    "landcover=list(land_cover.LAND_COVER.unique())"
   ]
  },
  {
   "cell_type": "code",
   "execution_count": null,
   "id": "420937a1",
   "metadata": {},
   "outputs": [],
   "source": [
    "landcover_flooded = len(land_flooded.LAND_COVER.unique())\n",
    "print('Number of unique features: {}'.format(landcover_flooded))\n",
    "landflooded=list(land_flooded.LAND_COVER.unique())"
   ]
  },
  {
   "cell_type": "code",
   "execution_count": null,
   "id": "7f481dd4",
   "metadata": {},
   "outputs": [],
   "source": [
    "landcover_colors = ['springgreen','olive', 'sienna','darkred', 'lawngreen', 'forestgreen','yellowgreen', 'y','darkgreen','darkorange','lightgrey','gold','black','grey']\n",
    "for ii, name in enumerate(landcover):\n",
    "    feat = ShapelyFeature(land_cover.loc[land_cover['LAND_COVER'] == name, 'geometry'], # first argument is the geometry\n",
    "                          myCRS, # second argument is the CRS\n",
    "                          edgecolor='k', # outline the feature in black\n",
    "                          facecolor=landcover_colors[ii],\n",
    "                        linewidth=0.1,\n",
    "                         alpha=0.8) # set the face color to the corresponding color from the list\n",
    "                           # set the outline width to be 1 pt\n",
    "                           # set the alpha (transparency) to be 0.25 (out of 1)\n",
    "    ax.add_feature(feat)\n"
   ]
  },
  {
   "cell_type": "code",
   "execution_count": null,
   "id": "ef49e244",
   "metadata": {
    "scrolled": true
   },
   "outputs": [],
   "source": [
    "flood_feature = ShapelyFeature(flood['geometry'], myCRS, edgecolor='k',facecolor='navy',alpha=0.1,linewidth=0.1)\n",
    "ax.add_feature(flood_feature)\n"
   ]
  },
  {
   "cell_type": "code",
   "execution_count": null,
   "id": "51352068",
   "metadata": {},
   "outputs": [],
   "source": [
    "land_flooded_colors = ['grey','darkgreen','forestgreen','lightgrey', 'gold','sienna','springgreen','lawngreen','olive','black']\n",
    "for ii, name in enumerate(landflooded):\n",
    "    feat = ShapelyFeature(land_flooded.loc[land_flooded['LAND_COVER'] == name, 'geometry'], # first argument is the geometry\n",
    "                          myCRS, # second argument is the CRS\n",
    "                          edgecolor='r', # outline the feature in black\n",
    "                          facecolor=land_flooded_colors[ii],\n",
    "                        linewidth=0.2,\n",
    "                         alpha=1)\n",
    "                          # set the face color to the corresponding color from the list\n",
    "                           # set the outline width to be 1 pt\n",
    "                           # set the alpha (transparency) to be 0.25 (out of 1)\n",
    "    ax.add_feature(feat)\n"
   ]
  },
  {
   "cell_type": "code",
   "execution_count": null,
   "id": "2b8fbaa2",
   "metadata": {},
   "outputs": [],
   "source": [
    "landcover_handles = generate_handles(land_cover.LAND_COVER.unique(), landcover_colors)\n",
    "flood_handles = generate_handles(['Flood'], ['navy'])"
   ]
  },
  {
   "cell_type": "code",
   "execution_count": null,
   "id": "50bc88f5",
   "metadata": {},
   "outputs": [],
   "source": [
    "# ax.legend() takes a list of handles and a list of labels corresponding to the objects\n",
    "# you want to add to the legend\n",
    "handles = landcover_handles  + flood_handles # use '+' to concatenate (combine) lists\n",
    "labels = landcover + ['Flood']\n",
    "\n",
    "leg = ax.legend(handles, labels, title='Legend', title_fontsize=12,\n",
    "                 fontsize=10, loc='lower left', frameon=True, framealpha=1)\n",
    "\n",
    "gridlines = ax.gridlines(draw_labels=True, alpha=1, edgecolor='k') # draw  labels for the grid lines\n",
    "                         \n",
    "gridlines.left_labels = False # turn off the left-side labels\n",
    "gridlines.bottom_labels = False\n",
    "\n",
    "scale_bar(ax)\n",
    "myFig # to show the updated figure"
   ]
  },
  {
   "cell_type": "code",
   "execution_count": null,
   "id": "c34ab0f7",
   "metadata": {},
   "outputs": [],
   "source": [
    "myFig2 = plt.figure(figsize=(12, 12))  # create a figure of size 10x10 (representing the page size in inches)\n",
    "\n",
    "myCRS = ccrs.UTM(29)  # create a Universal Transverse Mercator reference system to transform our data.\n",
    "# be sure to fill in XX above with the correct number for the UTM Zone that Northern Ireland is part of.\n",
    "\n",
    "ax = plt.axes(projection=myCRS)  # finally, create an axes object in the figure, using a UTM projection,\n",
    "# where we can actually plot our data."
   ]
  },
  {
   "cell_type": "code",
   "execution_count": null,
   "id": "063b8f89",
   "metadata": {},
   "outputs": [],
   "source": [
    "#create % column for elderly and child ?"
   ]
  },
  {
   "cell_type": "code",
   "execution_count": null,
   "id": "8f3ee228",
   "metadata": {},
   "outputs": [],
   "source": [
    "#create column pop density"
   ]
  },
  {
   "cell_type": "code",
   "execution_count": null,
   "id": "5ff95d94",
   "metadata": {},
   "outputs": [],
   "source": [
    "#all data shapefile clipped to flood polygon with within"
   ]
  },
  {
   "cell_type": "code",
   "execution_count": null,
   "id": "ca5b432e",
   "metadata": {},
   "outputs": [],
   "source": [
    "#analyses:-tot pop in flood polygon\n",
    "#         - nbr resident houses\n",
    "#         - tot length of road impacted and class A roas\n",
    "#         - Sa with highest pop density and if any are adjacent\n",
    "#         - SA with less than avg pop density\n",
    "#         - which landcover types has highest area in flood poly\n",
    "#         - total area flooded per landcover types\n",
    "#         - SA with highest % of elderly/child\n",
    "#         - SA with low pop density but high child %\n",
    "#         - SA with medical building\n",
    "#         - residential building furtherest from medical build (use original dataset ?)\n",
    "#         - SA centre furthest from medical building"
   ]
  },
  {
   "cell_type": "code",
   "execution_count": null,
   "id": "3682b583",
   "metadata": {},
   "outputs": [],
   "source": [
    "#add scale and legend handle"
   ]
  },
  {
   "cell_type": "code",
   "execution_count": null,
   "id": "1c176352",
   "metadata": {},
   "outputs": [],
   "source": [
    "#create map and add features to map\n",
    "# do second map with landcover"
   ]
  },
  {
   "cell_type": "code",
   "execution_count": null,
   "id": "13c66833",
   "metadata": {},
   "outputs": [],
   "source": [
    "#different labels depending on building class and road class"
   ]
  },
  {
   "cell_type": "code",
   "execution_count": null,
   "id": "6a65b5af",
   "metadata": {},
   "outputs": [],
   "source": [
    "#grid lines"
   ]
  },
  {
   "cell_type": "code",
   "execution_count": null,
   "id": "d92d7264",
   "metadata": {},
   "outputs": [],
   "source": []
  },
  {
   "cell_type": "code",
   "execution_count": null,
   "id": "0cd6cb31",
   "metadata": {},
   "outputs": [],
   "source": []
  }
 ],
 "metadata": {
  "kernelspec": {
   "display_name": "Python 3 (ipykernel)",
   "language": "python",
   "name": "python3"
  },
  "language_info": {
   "codemirror_mode": {
    "name": "ipython",
    "version": 3
   },
   "file_extension": ".py",
   "mimetype": "text/x-python",
   "name": "python",
   "nbconvert_exporter": "python",
   "pygments_lexer": "ipython3",
   "version": "3.9.16"
  }
 },
 "nbformat": 4,
 "nbformat_minor": 5
}
