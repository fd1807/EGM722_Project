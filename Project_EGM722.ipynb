{
 "cells": [
  {
   "cell_type": "code",
   "execution_count": 1,
   "id": "661a19e1",
   "metadata": {},
   "outputs": [
    {
     "data": {
      "text/plain": [
       "<contextlib.ExitStack at 0x2b4b54be820>"
      ]
     },
     "execution_count": 1,
     "metadata": {},
     "output_type": "execute_result"
    }
   ],
   "source": [
    "# this lets us use the figures interactively\n",
    "%matplotlib inline\n",
    "\n",
    "import os\n",
    "import geopandas as gpd\n",
    "import matplotlib.pyplot as plt\n",
    "from cartopy.feature import ShapelyFeature\n",
    "import cartopy.crs as ccrs\n",
    "import matplotlib.patches as mpatches\n",
    "import matplotlib.lines as mlines\n",
    "\n",
    "plt.ion() # make the plotting interactive"
   ]
  },
  {
   "cell_type": "code",
   "execution_count": 2,
   "id": "751784e7",
   "metadata": {},
   "outputs": [],
   "source": [
    "# generate matplotlib handles to create a legend of the features we put in our map.\n",
    "def generate_handles(labels, colors, edge='k', alpha=1):\n",
    "    lc = len(colors)  # get the length of the color list\n",
    "    handles = []\n",
    "    for i in range(len(labels)):\n",
    "        handles.append(mpatches.Rectangle((0, 0), 1, 1, facecolor=colors[i % lc], edgecolor=edge, alpha=alpha))\n",
    "    return handles"
   ]
  },
  {
   "cell_type": "code",
   "execution_count": 3,
   "id": "9d080e04",
   "metadata": {},
   "outputs": [],
   "source": [
    "def scale_bar(ax, location=(0.92, 0.95)):\n",
    "    x0, x1, y0, y1 = ax.get_extent()\n",
    "    sbx = x0 + (x1 - x0) * location[0]\n",
    "    sby = y0 + (y1 - y0) * location[1]\n",
    "\n",
    "    ax.plot([sbx, sbx - 20000], [sby, sby], color='k', linewidth=9, transform=ax.projection)\n",
    "    ax.plot([sbx, sbx - 10000], [sby, sby], color='k', linewidth=6, transform=ax.projection)\n",
    "    ax.plot([sbx-10000, sbx - 20000], [sby, sby], color='w', linewidth=6, transform=ax.projection)\n",
    "\n",
    "    ax.text(sbx, sby-4500, '20 km', transform=ax.projection, fontsize=8)\n",
    "    ax.text(sbx-12500, sby-4500, '10 km', transform=ax.projection, fontsize=8)\n",
    "    ax.text(sbx-24500, sby-4500, '0 km', transform=ax.projection, fontsize=8)\n"
   ]
  },
  {
   "cell_type": "code",
   "execution_count": 4,
   "id": "bad04971",
   "metadata": {},
   "outputs": [],
   "source": [
    "#import data file: flood, buildings, roads, population excel file, county outline, sa outline\n",
    "flood= gpd.read_file(os.path.abspath('Project_datafiles/Flood_2m.shp'))\n",
    "roads= gpd.read_file(os.path.abspath('Project_datafiles/Fermanagh_roads.shp'))\n",
    "buildings= gpd.read_file(os.path.abspath('Project_datafiles/Building_Fermanagh.shp'))\n",
    "pop_demography=gpd.read_file(os.path.abspath('Project_datafiles/pop_demography.csv'))\n",
    "outline = gpd.read_file(os.path.abspath('Project_datafiles/Fermanagh_DCA.shp'))\n",
    "small_area= gpd.read_file(os.path.abspath('Project_datafiles/SA_poly.shp'))\n",
    "land_cover= gpd.read_file(os.path.abspath('Project_datafiles/LCM_Fermanagh.shp'))"
   ]
  },
  {
   "cell_type": "code",
   "execution_count": 5,
   "id": "2ee579bd",
   "metadata": {},
   "outputs": [
    {
     "data": {
      "text/html": [
       "<div>\n",
       "<style scoped>\n",
       "    .dataframe tbody tr th:only-of-type {\n",
       "        vertical-align: middle;\n",
       "    }\n",
       "\n",
       "    .dataframe tbody tr th {\n",
       "        vertical-align: top;\n",
       "    }\n",
       "\n",
       "    .dataframe thead th {\n",
       "        text-align: right;\n",
       "    }\n",
       "</style>\n",
       "<table border=\"1\" class=\"dataframe\">\n",
       "  <thead>\n",
       "    <tr style=\"text-align: right;\">\n",
       "      <th></th>\n",
       "      <th>AREA</th>\n",
       "      <th>PERIMETER</th>\n",
       "      <th>LGD_</th>\n",
       "      <th>LGD_ID</th>\n",
       "      <th>LGDNAME</th>\n",
       "      <th>DATASET</th>\n",
       "      <th>OSNI_SCALE</th>\n",
       "      <th>geometry</th>\n",
       "    </tr>\n",
       "  </thead>\n",
       "  <tbody>\n",
       "    <tr>\n",
       "      <th>0</th>\n",
       "      <td>1.876782e+09</td>\n",
       "      <td>314692.19</td>\n",
       "      <td>120</td>\n",
       "      <td>18813</td>\n",
       "      <td>FERMANAGH</td>\n",
       "      <td>LGDs 1993</td>\n",
       "      <td>1:50000</td>\n",
       "      <td>POLYGON ((219214.053 373380.472, 219408.879 37...</td>\n",
       "    </tr>\n",
       "  </tbody>\n",
       "</table>\n",
       "</div>"
      ],
      "text/plain": [
       "           AREA  PERIMETER  LGD_  LGD_ID    LGDNAME    DATASET OSNI_SCALE   \n",
       "0  1.876782e+09  314692.19   120   18813  FERMANAGH  LGDs 1993    1:50000  \\\n",
       "\n",
       "                                            geometry  \n",
       "0  POLYGON ((219214.053 373380.472, 219408.879 37...  "
      ]
     },
     "execution_count": 5,
     "metadata": {},
     "output_type": "execute_result"
    }
   ],
   "source": [
    "outline.head()"
   ]
  },
  {
   "cell_type": "code",
   "execution_count": 6,
   "id": "d969f21a",
   "metadata": {},
   "outputs": [
    {
     "data": {
      "image/png": "[encoded data removed]",
      "text/plain": [
       "<Figure size 1000x1000 with 1 Axes>"
      ]
     },
     "metadata": {},
     "output_type": "display_data"
    }
   ],
   "source": [
    "myFig = plt.figure(figsize=(10, 10))  # create a figure of size 10x10 (representing the page size in inches)\n",
    "\n",
    "myCRS = ccrs.UTM(29)  # create a Universal Transverse Mercator reference system to transform our data.\n",
    "# be sure to fill in XX above with the correct number for the UTM Zone that Northern Ireland is part of.\n",
    "\n",
    "ax = plt.axes(projection=myCRS)  # finally, create an axes object in the figure, using a UTM projection,\n",
    "# where we can actually plot our data."
   ]
  },
  {
   "cell_type": "code",
   "execution_count": 7,
   "id": "f49741c9",
   "metadata": {},
   "outputs": [
    {
     "data": {
      "text/plain": [
       "<cartopy.mpl.feature_artist.FeatureArtist at 0x2b4bbd41fa0>"
      ]
     },
     "execution_count": 7,
     "metadata": {},
     "output_type": "execute_result"
    }
   ],
   "source": [
    "# first, we just add the outline of Northern Ireland using cartopy's ShapelyFeature\n",
    "outline_feature = ShapelyFeature(outline['geometry'], myCRS, edgecolor='k', facecolor='w')\n",
    "xmin, ymin, xmax, ymax = outline.total_bounds\n",
    "ax.add_feature(outline_feature) # add the features we've created to the map."
   ]
  },
  {
   "cell_type": "code",
   "execution_count": 27,
   "id": "df6cc820",
   "metadata": {},
   "outputs": [
    {
     "name": "stdout",
     "output_type": "stream",
     "text": [
      "Number of unique features: 16\n"
     ]
    }
   ],
   "source": [
    "# get the number of unique municipalities we have in the dataset\n",
    "landcover_type = len(land_cover.LAND_COVER.unique())\n",
    "print('Number of unique features: {}'.format(landcover_type))\n",
    "landcover_type=list(land_cover.LAND_COVER.unique())"
   ]
  },
  {
   "cell_type": "code",
   "execution_count": 28,
   "id": "a70a366e",
   "metadata": {},
   "outputs": [
    {
     "ename": "IndexError",
     "evalue": "list index out of range",
     "output_type": "error",
     "traceback": [
      "\u001b[1;31m---------------------------------------------------------------------------\u001b[0m",
      "\u001b[1;31mIndexError\u001b[0m                                Traceback (most recent call last)",
      "Cell \u001b[1;32mIn[28], line 6\u001b[0m\n\u001b[0;32m      1\u001b[0m landcover_colors \u001b[38;5;241m=\u001b[39m [\u001b[38;5;124m'\u001b[39m\u001b[38;5;124mdeepskyblue\u001b[39m\u001b[38;5;124m'\u001b[39m,\u001b[38;5;124m'\u001b[39m\u001b[38;5;124mlawngreen\u001b[39m\u001b[38;5;124m'\u001b[39m,\u001b[38;5;124m'\u001b[39m\u001b[38;5;124molive\u001b[39m\u001b[38;5;124m'\u001b[39m, \u001b[38;5;124m'\u001b[39m\u001b[38;5;124msienna\u001b[39m\u001b[38;5;124m'\u001b[39m,\u001b[38;5;124m'\u001b[39m\u001b[38;5;124mdarkred\u001b[39m\u001b[38;5;124m'\u001b[39m \u001b[38;5;124m'\u001b[39m\u001b[38;5;124mchartreuse\u001b[39m\u001b[38;5;124m'\u001b[39m, \u001b[38;5;124m'\u001b[39m\u001b[38;5;124mforestgreen\u001b[39m\u001b[38;5;124m'\u001b[39m,\u001b[38;5;124m'\u001b[39m\u001b[38;5;124mlime\u001b[39m\u001b[38;5;124m'\u001b[39m, \u001b[38;5;124m'\u001b[39m\u001b[38;5;124my\u001b[39m\u001b[38;5;124m'\u001b[39m,\u001b[38;5;124m'\u001b[39m\u001b[38;5;124mdarkgreen\u001b[39m\u001b[38;5;124m'\u001b[39m,\u001b[38;5;124m'\u001b[39m\u001b[38;5;124mdarkorange\u001b[39m\u001b[38;5;124m'\u001b[39m,\u001b[38;5;124m'\u001b[39m\u001b[38;5;124mlightgrey\u001b[39m\u001b[38;5;124m'\u001b[39m,\u001b[38;5;124m'\u001b[39m\u001b[38;5;124mwheat\u001b[39m\u001b[38;5;124m'\u001b[39m,\u001b[38;5;124m'\u001b[39m\u001b[38;5;124mblack\u001b[39m\u001b[38;5;124m'\u001b[39m,\u001b[38;5;124m'\u001b[39m\u001b[38;5;124mgrey\u001b[39m\u001b[38;5;124m'\u001b[39m,\u001b[38;5;124m'\u001b[39m\u001b[38;5;124mnavy\u001b[39m\u001b[38;5;124m'\u001b[39m]\n\u001b[0;32m      2\u001b[0m \u001b[38;5;28;01mfor\u001b[39;00m ii, name \u001b[38;5;129;01min\u001b[39;00m \u001b[38;5;28menumerate\u001b[39m(landcover_type):\n\u001b[0;32m      3\u001b[0m     feat \u001b[38;5;241m=\u001b[39m ShapelyFeature(land_cover\u001b[38;5;241m.\u001b[39mloc[land_cover[\u001b[38;5;124m'\u001b[39m\u001b[38;5;124mLAND_COVER\u001b[39m\u001b[38;5;124m'\u001b[39m] \u001b[38;5;241m==\u001b[39m name, \u001b[38;5;124m'\u001b[39m\u001b[38;5;124mgeometry\u001b[39m\u001b[38;5;124m'\u001b[39m], \u001b[38;5;66;03m# first argument is the geometry\u001b[39;00m\n\u001b[0;32m      4\u001b[0m                           myCRS, \u001b[38;5;66;03m# second argument is the CRS\u001b[39;00m\n\u001b[0;32m      5\u001b[0m                           edgecolor\u001b[38;5;241m=\u001b[39m\u001b[38;5;124m'\u001b[39m\u001b[38;5;124mw\u001b[39m\u001b[38;5;124m'\u001b[39m, \u001b[38;5;66;03m# outline the feature in black\u001b[39;00m\n\u001b[1;32m----> 6\u001b[0m                           facecolor\u001b[38;5;241m=\u001b[39m\u001b[43mlandcover_colors\u001b[49m\u001b[43m[\u001b[49m\u001b[43mii\u001b[49m\u001b[43m]\u001b[49m, \u001b[38;5;66;03m# set the face color to the corresponding color from the list\u001b[39;00m\n\u001b[0;32m      7\u001b[0m                           linewidth\u001b[38;5;241m=\u001b[39m\u001b[38;5;241m1\u001b[39m) \u001b[38;5;66;03m# set the outline width to be 1 pt\u001b[39;00m\n\u001b[0;32m      8\u001b[0m                            \u001b[38;5;66;03m# set the alpha (transparency) to be 0.25 (out of 1)\u001b[39;00m\n\u001b[0;32m      9\u001b[0m     ax\u001b[38;5;241m.\u001b[39madd_feature(feat)\n",
      "\u001b[1;31mIndexError\u001b[0m: list index out of range"
     ]
    }
   ],
   "source": [
    "landcover_colors = ['deepskyblue','lawngreen','olive', 'sienna','darkred' 'chartreuse', 'forestgreen','lime', 'y','darkgreen','darkorange','lightgrey','wheat','black','grey','navy']\n",
    "for ii, name in enumerate(landcover_type):\n",
    "    feat = ShapelyFeature(land_cover.loc[land_cover['LAND_COVER'] == name, 'geometry'], # first argument is the geometry\n",
    "                          myCRS, # second argument is the CRS\n",
    "                          edgecolor='w', # outline the feature in black\n",
    "                          facecolor=landcover_colors[ii], # set the face color to the corresponding color from the list\n",
    "                          linewidth=1) # set the outline width to be 1 pt\n",
    "                           # set the alpha (transparency) to be 0.25 (out of 1)\n",
    "    ax.add_feature(feat)"
   ]
  },
  {
   "cell_type": "code",
   "execution_count": 9,
   "id": "063b8f89",
   "metadata": {},
   "outputs": [],
   "source": [
    "#create % column for elderly and child ?"
   ]
  },
  {
   "cell_type": "code",
   "execution_count": 10,
   "id": "6c1949ff",
   "metadata": {},
   "outputs": [],
   "source": [
    "#join sa shape file with excel pop file"
   ]
  },
  {
   "cell_type": "code",
   "execution_count": 11,
   "id": "8f3ee228",
   "metadata": {},
   "outputs": [],
   "source": [
    "#create column pop density"
   ]
  },
  {
   "cell_type": "code",
   "execution_count": 12,
   "id": "5ff95d94",
   "metadata": {},
   "outputs": [],
   "source": [
    "#all data shapefile clipped to flood polygon with within"
   ]
  },
  {
   "cell_type": "code",
   "execution_count": 13,
   "id": "ca5b432e",
   "metadata": {},
   "outputs": [],
   "source": [
    "#analyses:-tot pop in flood polygon\n",
    "#         - nbr resident houses\n",
    "#         - tot length of road impacted and class A roas\n",
    "#         - Sa with highest pop density and if any are adjacent\n",
    "#         - SA with less than avg pop density\n",
    "#         - which landcover types has highest area in flood poly\n",
    "#         - total area flooded per landcover types\n",
    "#         - SA with highest % of elderly/child\n",
    "#         - SA with low pop density but high child %\n",
    "#         - SA with medical building\n",
    "#         - residential building furtherest from medical build (use original dataset ?)\n",
    "#         - SA centre furthest from medical building"
   ]
  },
  {
   "cell_type": "code",
   "execution_count": 14,
   "id": "3682b583",
   "metadata": {},
   "outputs": [],
   "source": [
    "#add scale and legend handle"
   ]
  },
  {
   "cell_type": "code",
   "execution_count": 15,
   "id": "1c176352",
   "metadata": {},
   "outputs": [],
   "source": [
    "#create map and add features to map\n",
    "# do second map with landcover"
   ]
  },
  {
   "cell_type": "code",
   "execution_count": 16,
   "id": "13c66833",
   "metadata": {},
   "outputs": [],
   "source": [
    "#different labels depending on building class and road class"
   ]
  },
  {
   "cell_type": "code",
   "execution_count": 17,
   "id": "6a65b5af",
   "metadata": {},
   "outputs": [],
   "source": [
    "#grid lines"
   ]
  }
 ],
 "metadata": {
  "kernelspec": {
   "display_name": "Python 3 (ipykernel)",
   "language": "python",
   "name": "python3"
  },
  "language_info": {
   "codemirror_mode": {
    "name": "ipython",
    "version": 3
   },
   "file_extension": ".py",
   "mimetype": "text/x-python",
   "name": "python",
   "nbconvert_exporter": "python",
   "pygments_lexer": "ipython3",
   "version": "3.9.16"
  }
 },
 "nbformat": 4,
 "nbformat_minor": 5
}
