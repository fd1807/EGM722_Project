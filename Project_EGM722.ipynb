{
 "cells": [
  {
   "cell_type": "markdown",
   "id": "a7d5be09",
   "metadata": {},
   "source": [
    "# Part 1: Data import and preparation\n",
    "\n"
   ]
  },
  {
   "cell_type": "code",
   "execution_count": 1,
   "id": "661a19e1",
   "metadata": {},
   "outputs": [
    {
     "data": {
      "text/plain": [
       "<contextlib.ExitStack at 0x20a1fe4d1d0>"
      ]
     },
     "execution_count": 1,
     "metadata": {},
     "output_type": "execute_result"
    }
   ],
   "source": [
    "# Import the modules necessary for the program\n",
    "\n",
    "\n",
    "import os\n",
    "import pandas as pd\n",
    "import geopandas as gpd\n",
    "import matplotlib.pyplot as plt\n",
    "from mpl_toolkits.axes_grid1 import make_axes_locatable\n",
    "from cartopy.feature import ShapelyFeature\n",
    "import cartopy.crs as ccrs\n",
    "import matplotlib.patches as mpatches\n",
    "import matplotlib.lines as mlines\n",
    "from shapely.geometry import Point, LineString, Polygon\n",
    "\n",
    "%matplotlib inline\n",
    "plt.ion()"
   ]
  },
  {
   "cell_type": "code",
   "execution_count": 2,
   "id": "3254c1fe",
   "metadata": {},
   "outputs": [],
   "source": [
    "# Creates matplotlib handles which will be used to create a legend of the features added on the maps\n",
    "def generate_handles(labels, colors, edge='k', alpha=1):\n",
    "    lc = len(colors)  \n",
    "    handles = []\n",
    "    for i in range(len(labels)):\n",
    "        handles.append(mpatches.Rectangle((0, 0), 1, 1, facecolor=colors[i % lc], edgecolor=edge, alpha=alpha))\n",
    "    return handles"
   ]
  },
  {
   "cell_type": "code",
   "execution_count": 3,
   "id": "1588efbf",
   "metadata": {},
   "outputs": [],
   "source": [
    "# Creates a scale (with a division at 0,5 and 10m)  located in the upper right corner\n",
    "def scale_bar(ax, location=(0.32, 0.95)):\n",
    "    x0, x1, y0, y1 = ax.get_extent()\n",
    "    sbx = x0 + (x1 - x0) * location[0]\n",
    "    sby = y0 + (y1 - y0) * location[1]\n",
    "\n",
    "    ax.plot([sbx, sbx - 10000], [sby, sby], color='k', linewidth=9, transform=ax.projection)\n",
    "    ax.plot([sbx, sbx - 5000], [sby, sby], color='k', linewidth=6, transform=ax.projection)\n",
    "    ax.plot([sbx-5000, sbx - 10000], [sby, sby], color='w', linewidth=6, transform=ax.projection)\n",
    "\n",
    "    ax.text(sbx, sby-1000, '10 km', transform=ax.projection, fontsize=10)\n",
    "    ax.text(sbx-5000, sby-1000, '5 km', transform=ax.projection, fontsize=10)\n",
    "    ax.text(sbx-10000, sby-1000, '0 km', transform=ax.projection, fontsize=10)\n"
   ]
  },
  {
   "cell_type": "code",
   "execution_count": null,
   "id": "bad04971",
   "metadata": {},
   "outputs": [],
   "source": [
    "#Import the different data files used for the analyses\n",
    "\n",
    "flood= gpd.read_file(os.path.abspath('Project_datafiles/Flood_2m.shp'))\n",
    "roads= gpd.read_file(os.path.abspath('Project_datafiles/Fermanagh_roads.shp'))\n",
    "buildings= gpd.read_file(os.path.abspath('Project_datafiles/Building_Fermanagh.shp'))\n",
    "pop_demography=gpd.read_file(os.path.abspath('Project_datafiles/popdemography.csv'))\n",
    "outline = gpd.read_file(os.path.abspath('Project_datafiles/Fermanagh_DCA.shp'))\n",
    "small_area= gpd.read_file(os.path.abspath('Project_datafiles/SApoly.shp'))\n",
    "land_cover= gpd.read_file(os.path.abspath('Project_datafiles/LC_Fermanagh.shp'))"
   ]
  },
  {
   "cell_type": "code",
   "execution_count": null,
   "id": "8d654f6c",
   "metadata": {
    "scrolled": true
   },
   "outputs": [],
   "source": [
    "#Merge the pop_demography csv with the small_area shapefile using the SA2011 column as the common column\n",
    "small_area =gpd.GeoDataFrame(pop_demography.merge(small_area, on=\"SA2011\"))\n",
    "small_area.head()"
   ]
  },
  {
   "cell_type": "code",
   "execution_count": null,
   "id": "1d172c17",
   "metadata": {
    "scrolled": true
   },
   "outputs": [],
   "source": [
    "#Set the geometry column and edit the column name to geometry\n",
    "small_area.rename(columns={'geometry_y':'geometry'}, inplace=True)\n",
    "\n",
    "small_area.set_geometry('geometry')"
   ]
  },
  {
   "cell_type": "code",
   "execution_count": null,
   "id": "66fe4366",
   "metadata": {},
   "outputs": [],
   "source": [
    "# Set the columns data type to integer instead of string\n",
    "small_area['residents'] = small_area['residents'].astype(int)\n",
    "small_area['Shape_Area'] = small_area['Shape_Area'].astype(int)\n",
    "small_area['elderly'] = small_area['elderly'].astype(int)\n",
    "small_area['children'] = small_area['children'].astype(int)"
   ]
  },
  {
   "cell_type": "code",
   "execution_count": null,
   "id": "90cad31a",
   "metadata": {},
   "outputs": [],
   "source": [
    "# Create a population density, percentage of elderly and percentage of children columns and show the new geodatabase\n",
    "\n",
    "for ind, row in small_area.iterrows(): \n",
    "    small_area.loc[ind, 'pop_density'] = row['residents']/ row['Shape_Area']* 1000000\n",
    "\n",
    "\n",
    "for ind, row in small_area.iterrows(): \n",
    "    small_area.loc[ind, 'per_elderly'] = row['elderly']/ row['residents']* 100\n",
    "    \n",
    "for ind, row in small_area.iterrows():\n",
    "    small_area.loc[ind, 'per_children'] = row['children']/ row['residents']* 100\n",
    "    \n",
    "print(small_area.head())"
   ]
  },
  {
   "cell_type": "code",
   "execution_count": null,
   "id": "94e10c0a",
   "metadata": {},
   "outputs": [],
   "source": [
    "# Set the Geographic Coordinate system to the Irish Transverse Mercator for all shapefiles\n",
    "flood.to_crs(epsg = 2157)\n",
    "roads.to_crs(epsg = 2157)\n",
    "buildings.to_crs(epsg = 2157)\n",
    "outline.to_crs(epsg = 2157)\n",
    "small_area.to_crs(epsg = 2157)\n",
    "land_cover.to_crs(epsg = 2157)"
   ]
  },
  {
   "cell_type": "code",
   "execution_count": null,
   "id": "7f9a31dd",
   "metadata": {},
   "outputs": [],
   "source": [
    "# Create a function to subset the shapefiles based on the flood polygon\n",
    "def flooded(shapefile):\n",
    "    flood_geom = flood['geometry'].values[0]\n",
    "    flooded = shapefile['geometry'].within(flood_geom)\n",
    "    return shapefile['geometry'].within(flood_geom)\n"
   ]
  },
  {
   "cell_type": "markdown",
   "id": "eca29510",
   "metadata": {},
   "source": [
    "# Part 2: Impact on the landcover analyses and map"
   ]
  },
  {
   "cell_type": "code",
   "execution_count": null,
   "id": "d969f21a",
   "metadata": {},
   "outputs": [],
   "source": [
    "#Create a new figure set to the Irish Transverse Mercator\n",
    "\n",
    "myFig = plt.figure(figsize=(12, 12))\n",
    "\n",
    "myCRS = ccrs.UTM(29)  \n",
    "ax = plt.axes(projection=myCRS) "
   ]
  },
  {
   "cell_type": "code",
   "execution_count": null,
   "id": "f8ec79c5",
   "metadata": {},
   "outputs": [],
   "source": [
    "# Add the outline for Fermanagh County and zoom to the extent of the flood polygon\n",
    "outline_feature = ShapelyFeature(outline['geometry'], myCRS, edgecolor='k', facecolor='w')\n",
    "xmin, ymin, xmax, ymax = flood.total_bounds\n",
    "ax.add_feature(outline_feature) # add the features we've created to the map.\n",
    "ax.set_extent([xmin-1000, xmax+1000, ymin-1000, ymax+1000], crs=myCRS)\n"
   ]
  },
  {
   "cell_type": "code",
   "execution_count": null,
   "id": "457894b1",
   "metadata": {},
   "outputs": [],
   "source": [
    "# Check the number of Landcover type present in the dataset and print the names\n",
    "landcover= len(land_cover.LAND_COVER.unique())\n",
    "print('Number of unique features: {}'.format(landcover))\n",
    "list_landcover = list(land_cover.LAND_COVER.unique())\n",
    "print(list_landcover) "
   ]
  },
  {
   "cell_type": "code",
   "execution_count": null,
   "id": "7f481dd4",
   "metadata": {},
   "outputs": [],
   "source": [
    "# Assign a color for each landcover type  and add the feature to the map\n",
    "land_cover_colors = ['springgreen','olive', 'sienna','darkred', 'lawngreen', 'forestgreen','yellowgreen', 'y','darkgreen','darkorange','lightgrey','gold','black','grey']\n",
    "landcover=list(land_cover.LAND_COVER.unique())\n",
    "for ii, name in enumerate(landcover):\n",
    "    feat = ShapelyFeature(land_cover.loc[land_cover['LAND_COVER'] == name, 'geometry'], # first argument is the geometry\n",
    "                          myCRS, # second argument is the CRS\n",
    "                          edgecolor='k', # outline the feature in black\n",
    "                          facecolor=land_cover_colors[ii],\n",
    "                        linewidth=0.1,\n",
    "                         alpha=0.8) # set the face color to the corresponding color from the list\n",
    "                           # set the outline width to be 1 pt\n",
    "                           # set the alpha (transparency) to be 0.25 (out of 1)\n",
    "    ax.add_feature(feat)\n"
   ]
  },
  {
   "cell_type": "code",
   "execution_count": null,
   "id": "ef49e244",
   "metadata": {
    "scrolled": true
   },
   "outputs": [],
   "source": [
    "# Add the flood polygon to the map\n",
    "flood_feature = ShapelyFeature(flood['geometry'], myCRS, edgecolor='r',facecolor='navy',alpha=0.25,linewidth=0.25)\n",
    "ax.add_feature(flood_feature)\n"
   ]
  },
  {
   "cell_type": "code",
   "execution_count": null,
   "id": "2b8fbaa2",
   "metadata": {},
   "outputs": [],
   "source": [
    "# Generate the legend label for the landcover and flood polygon\n",
    "landcover_handles = generate_handles(land_cover.LAND_COVER.unique(), land_cover_colors)\n",
    "flood_handles = generate_handles(['Flood'], ['navy'])"
   ]
  },
  {
   "cell_type": "code",
   "execution_count": null,
   "id": "50bc88f5",
   "metadata": {
    "scrolled": true
   },
   "outputs": [],
   "source": [
    "# Add the legend, scale and gridlines to the map and prints the map \n",
    "handles = landcover_handles  + flood_handles\n",
    "labels = landcover + ['Flood']\n",
    "\n",
    "leg = ax.legend(handles, labels, title='Legend', title_fontsize=12,\n",
    "                 fontsize=10, loc='lower left', frameon=True, framealpha=1)\n",
    "\n",
    "gridlines = ax.gridlines(draw_labels=True, alpha=1, edgecolor='k')\n",
    "                         \n",
    "gridlines.left_labels = False \n",
    "gridlines.bottom_labels = False\n",
    "\n",
    "scale_bar(ax)\n",
    "myFig\n",
    "\n",
    "#myFig.savefig('land_cover.png')"
   ]
  },
  {
   "cell_type": "code",
   "execution_count": null,
   "id": "ccd1755c",
   "metadata": {},
   "outputs": [],
   "source": [
    "# Subset the landcover data using the flood and shows the new dataset\n",
    "land_cover_flooded = flooded(land_cover) \n",
    "land_flooded = land_cover[land_cover_flooded] \n",
    "print(land_flooded[['LAND_COVER','Shape_Area']])"
   ]
  },
  {
   "cell_type": "code",
   "execution_count": null,
   "id": "779bc382",
   "metadata": {},
   "outputs": [],
   "source": [
    "# Shows the total flooded area(sqm) of each landcover\n",
    "land_flooded.groupby(['LAND_COVER'])['Shape_Area'].sum().sort_values(ascending=False)"
   ]
  },
  {
   "cell_type": "markdown",
   "id": "d4c60ea6",
   "metadata": {},
   "source": [
    "# Part 3: Infrastructure and population analyses and map"
   ]
  },
  {
   "cell_type": "code",
   "execution_count": null,
   "id": "c34ab0f7",
   "metadata": {},
   "outputs": [],
   "source": [
    "#Create a new figure set to the Irish Transverse Mercato\n",
    "\n",
    "myCRS = ccrs.UTM(29)\n",
    "\n",
    "myFig2, ax = plt.subplots(1, 1, figsize=(10, 10), subplot_kw=dict(projection=myCRS)) \n"
   ]
  },
  {
   "cell_type": "code",
   "execution_count": null,
   "id": "e6a9fbee",
   "metadata": {},
   "outputs": [],
   "source": [
    "#Add the flood and Fermanagh county outline and set the extent to the flood polygon\n",
    "flood_feature = ShapelyFeature(flood['geometry'], myCRS, edgecolor='k',facecolor='silver',alpha=0.5,linewidth=0.5)\n",
    "ax.add_feature(flood_feature)\n",
    "outline_feature = ShapelyFeature(outline['geometry'], myCRS, edgecolor='k', facecolor='w')\n",
    "xmin, ymin, xmax, ymax = flood.total_bounds\n",
    "ax.set_extent([xmin-1000, xmax+1000, ymin-1000, ymax+1000], crs=myCRS)\n"
   ]
  },
  {
   "cell_type": "code",
   "execution_count": null,
   "id": "d8f5d583",
   "metadata": {},
   "outputs": [],
   "source": [
    "# Add the road shapefile to the map\n",
    "roads_feature = ShapelyFeature(roads['geometry'], myCRS, edgecolor='k', linewidth=1)\n",
    "ax.add_feature(roads_feature)\n"
   ]
  },
  {
   "cell_type": "code",
   "execution_count": null,
   "id": "3d8b6fd2",
   "metadata": {},
   "outputs": [],
   "source": [
    "# Add the building shapefile and creates a different label for each CLASSIFICA attribute. Add the different labels to the legend\n",
    "residential=buildings.loc[buildings['CLASSIFICA']=='Residential']\n",
    "residential_handle= ax.plot(residential.geometry.x, residential.geometry.y, 's', color='b', ms=1, transform=myCRS)\n",
    "\n",
    "commercial=buildings.loc[buildings['CLASSIFICA']=='Commercial']\n",
    "commercial_handle=ax.plot(commercial.geometry.x, commercial.geometry.y, 'o', color='darkviolet', ms=2, transform=myCRS)\n",
    "\n",
    "education=buildings.loc[buildings['CLASSIFICA']=='Education']\n",
    "education_handle=ax.plot(education.geometry.x, education.geometry.y, '^', color='g', ms=6, transform=myCRS)\n",
    "\n",
    "health=buildings.loc[buildings['CLASSIFICA']=='Health']\n",
    "health_handle=ax.plot(health.geometry.x, health.geometry.y, '*', color='r', ms=6, transform=myCRS)\n",
    "\n",
    "other=buildings.loc[buildings['CLASSIFICA']=='Other']\n",
    "other_handle=ax.plot(other.geometry.x, other.geometry.y, 'h', color='limegreen', ms=1, transform=myCRS)\n",
    "\n"
   ]
  },
  {
   "cell_type": "code",
   "execution_count": null,
   "id": "328d6e20",
   "metadata": {},
   "outputs": [],
   "source": [
    "#Add the population density, percentage of children and elderly and small_area shapefile to the map. Change which data is displayed  by removing and adding the #\n",
    "\n",
    "divider = make_axes_locatable(ax)\n",
    "cax = divider.append_axes(\"right\", size=\"5%\", pad=0.1, axes_class=plt.Axes)\n",
    "\n",
    "small_area_plot=small_area.plot(column='pop_density', ax=ax, vmax=100, cmap='YlOrRd',\n",
    "                       legend=True, cax=cax, legend_kwds={'label': 'Population Density'})\n",
    "\n",
    "#small_area_plot=small_area.plot(column='per_elderly', ax=ax, vmax=30, cmap='YlOrRd',\n",
    "                       #legend=True, cax=cax, legend_kwds={'label': 'Percentage of elderly'})\n",
    "\n",
    "#small_area_plot=small_area.plot(column='per_children', ax=ax, vmax=30, cmap='YlOrRd',\n",
    "                       #legend=True, cax=cax, legend_kwds={'label': 'Percentage of children'})\n",
    "\n",
    "sa_outline = ShapelyFeature(small_area['geometry'], myCRS, edgecolor='r',linewidth=0.05, facecolor='none')\n",
    "ax.add_feature(sa_outline)\n",
    "myFig2"
   ]
  },
  {
   "cell_type": "code",
   "execution_count": null,
   "id": "1ac5c195",
   "metadata": {},
   "outputs": [],
   "source": [
    "# Generate the legend label for the road and flood features\n",
    "roads_handle = [mlines.Line2D([], [], color='k')]\n",
    "flood_handle = generate_handles(['Flood'], ['navy'])"
   ]
  },
  {
   "cell_type": "code",
   "execution_count": null,
   "id": "fbb082cd",
   "metadata": {},
   "outputs": [],
   "source": [
    "#Add the legend, scale and gridlines to the map and print the map\n",
    "handles = roads_handle  + flood_handle + residential_handle + commercial_handle + other_handle + health_handle + education_handle # use '+' to concatenate (combine) lists\n",
    "labels = ['Roads'] + ['Flood'] + ['Residential'] + ['Commercial'] + ['Other'] + ['Health'] + ['Education']\n",
    "\n",
    "leg = ax.legend(handles, labels, title='Legend', title_fontsize=12,\n",
    "                 fontsize=10, loc='lower left',markerscale=4, frameon=True, framealpha=1)\n",
    "\n",
    "\n",
    "gridlines = ax.gridlines(draw_labels=True, alpha=1, edgecolor='k') \n",
    "                         \n",
    "gridlines.right_labels = False \n",
    "gridlines.bottom_labels = False\n",
    "\n",
    "scale_bar(ax)\n",
    "myFig2\n",
    "\n",
    "#myFig2.savefig('infrastructure_population.png')"
   ]
  },
  {
   "cell_type": "code",
   "execution_count": null,
   "id": "063b8f89",
   "metadata": {},
   "outputs": [],
   "source": [
    "#Subset the different features using the flood polygon\n",
    "build_flooded = flooded(buildings) \n",
    "building_flooded = buildings[build_flooded] \n",
    "\n",
    "rd_flooded = flooded(roads)\n",
    "roads_flooded = roads[rd_flooded] \n",
    "\n",
    "sa_flooded = small_area.sjoin(flood, how=\"inner\") \n"
   ]
  },
  {
   "cell_type": "code",
   "execution_count": null,
   "id": "38a195db",
   "metadata": {},
   "outputs": [],
   "source": [
    "# Calculate the total length(in km) of flooded road and A Class road\n",
    "sum_roads = roads_flooded['Length'].sum() /1000\n",
    "sum_motorway = roads_flooded[roads_flooded['CLASS'] == 'A']['Length'].sum() /1000\n",
    "print('{:.2f} total km of roads'.format(sum_roads))\n",
    "print('{:.2f} total km of A class road'.format(sum_motorway))"
   ]
  },
  {
   "cell_type": "code",
   "execution_count": null,
   "id": "74c60a3a",
   "metadata": {},
   "outputs": [],
   "source": [
    "# Count the number of flooded buildings \n",
    "building_flooded.groupby(['CLASSIFICA'])['CLASSIFICA'].count().sort_values(ascending=False)"
   ]
  },
  {
   "cell_type": "code",
   "execution_count": null,
   "id": "cd5b4a58",
   "metadata": {},
   "outputs": [],
   "source": [
    "# Show which flooded Small Area has the highest population density\n",
    "high_density= sa_flooded[sa_flooded.pop_density==sa_flooded.pop_density.max()]\n",
    "print(high_density[['SA2011', 'pop_density']])"
   ]
  },
  {
   "cell_type": "code",
   "execution_count": null,
   "id": "78c28516",
   "metadata": {},
   "outputs": [],
   "source": [
    "# Show which Small Area has a high percentage of elderly as well as a high percentage of children\n",
    "sa_flooded.loc[(sa_flooded['per_elderly']>= sa_flooded['per_elderly'].mean())&(sa_flooded['per_children']>= sa_flooded['per_children'].mean())]\n",
    "\n"
   ]
  },
  {
   "cell_type": "code",
   "execution_count": null,
   "id": "3977ee12",
   "metadata": {},
   "outputs": [],
   "source": [
    "# Show which Small Area has a low population density but a high percentage of children \n",
    "sa_flooded.loc[(sa_flooded['pop_density']<= sa_flooded['pop_density'].mean())&(sa_flooded['per_children']>= sa_flooded['per_children'].mean())]"
   ]
  }
 ],
 "metadata": {
  "kernelspec": {
   "display_name": "Python 3 (ipykernel)",
   "language": "python",
   "name": "python3"
  },
  "language_info": {
   "codemirror_mode": {
    "name": "ipython",
    "version": 3
   },
   "file_extension": ".py",
   "mimetype": "text/x-python",
   "name": "python",
   "nbconvert_exporter": "python",
   "pygments_lexer": "ipython3",
   "version": "3.11.3"
  }
 },
 "nbformat": 4,
 "nbformat_minor": 5
}
