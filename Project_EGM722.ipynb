{
 "cells": [
  {
   "cell_type": "code",
   "execution_count": 2,
   "id": "661a19e1",
   "metadata": {},
   "outputs": [
    {
     "data": {
      "text/plain": [
       "<contextlib.ExitStack at 0x2ac9da503a0>"
      ]
     },
     "execution_count": 2,
     "metadata": {},
     "output_type": "execute_result"
    }
   ],
   "source": [
    "#import module\n",
    "%matplotlib inline\n",
    "\n",
    "import os\n",
    "import geopandas as gpd\n",
    "import matplotlib.pyplot as plt\n",
    "from cartopy.feature import ShapelyFeature\n",
    "import cartopy.crs as ccrs\n",
    "import matplotlib.patches as mpatches\n",
    "import matplotlib.lines as mlines\n",
    "\n",
    "plt.ion() # make the plotting interactive"
   ]
  },
  {
   "cell_type": "code",
   "execution_count": null,
   "id": "bad04971",
   "metadata": {},
   "outputs": [],
   "source": [
    "#import data file: flood, buildings, roads, population excel file, county outline, sa outline\n",
    "flood: gpd.read_file(os.path.abspath\n",
    "roads\n",
    "buildings= \n",
    "pop_demography\n",
    "fermanagh\n",
    "small_area"
   ]
  },
  {
   "cell_type": "code",
   "execution_count": null,
   "id": "d969f21a",
   "metadata": {},
   "outputs": [],
   "source": [
    "# check that all data is geo referenced"
   ]
  },
  {
   "cell_type": "code",
   "execution_count": null,
   "id": "063b8f89",
   "metadata": {},
   "outputs": [],
   "source": [
    "#create % column for elderly and child ?"
   ]
  },
  {
   "cell_type": "code",
   "execution_count": null,
   "id": "6c1949ff",
   "metadata": {},
   "outputs": [],
   "source": [
    "#join sa shape file with excel pop file"
   ]
  },
  {
   "cell_type": "code",
   "execution_count": null,
   "id": "8f3ee228",
   "metadata": {},
   "outputs": [],
   "source": [
    "#create column pop density"
   ]
  },
  {
   "cell_type": "code",
   "execution_count": null,
   "id": "5ff95d94",
   "metadata": {},
   "outputs": [],
   "source": [
    "#all data shapefile clipped to flood polygon with within"
   ]
  },
  {
   "cell_type": "code",
   "execution_count": null,
   "id": "ca5b432e",
   "metadata": {},
   "outputs": [],
   "source": [
    "#analyses:-tot pop in flood polygon\n",
    "#         - nbr resident houses\n",
    "#         - tot length of road impacted and class A roas\n",
    "#         - Sa with highest pop density and if any are adjacent\n",
    "#         - SA with less than avg pop density\n",
    "#         - which landcover types has highest area in flood poly\n",
    "#         - total area flooded per landcover types\n",
    "#         - SA with highest % of elderly/child\n",
    "#         - SA with low pop density but high child %\n",
    "#         - SA with medical building\n",
    "#         - residential building furtherest from medical build (use original dataset ?)\n",
    "#         - SA centre furthest from medical building"
   ]
  },
  {
   "cell_type": "code",
   "execution_count": null,
   "id": "3682b583",
   "metadata": {},
   "outputs": [],
   "source": [
    "#add scale and legend handle"
   ]
  },
  {
   "cell_type": "code",
   "execution_count": null,
   "id": "1c176352",
   "metadata": {},
   "outputs": [],
   "source": [
    "#create map and add features to map\n",
    "# do second map with landcover"
   ]
  },
  {
   "cell_type": "code",
   "execution_count": null,
   "id": "13c66833",
   "metadata": {},
   "outputs": [],
   "source": [
    "#different labels depending on building class and road class"
   ]
  },
  {
   "cell_type": "code",
   "execution_count": null,
   "id": "6a65b5af",
   "metadata": {},
   "outputs": [],
   "source": [
    "#grid lines"
   ]
  }
 ],
 "metadata": {
  "kernelspec": {
   "display_name": "Python 3 (ipykernel)",
   "language": "python",
   "name": "python3"
  },
  "language_info": {
   "codemirror_mode": {
    "name": "ipython",
    "version": 3
   },
   "file_extension": ".py",
   "mimetype": "text/x-python",
   "name": "python",
   "nbconvert_exporter": "python",
   "pygments_lexer": "ipython3",
   "version": "3.9.16"
  }
 },
 "nbformat": 4,
 "nbformat_minor": 5
}
