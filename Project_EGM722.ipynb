{
 "cells": [
  {
   "cell_type": "code",
   "execution_count": 3,
   "id": "661a19e1",
   "metadata": {},
   "outputs": [
    {
     "data": {
      "text/plain": [
       "<contextlib.ExitStack at 0x2ac9ff739d0>"
      ]
     },
     "execution_count": 3,
     "metadata": {},
     "output_type": "execute_result"
    }
   ],
   "source": [
    "#import module\n",
    "%matplotlib inline\n",
    "\n",
    "import os\n",
    "import geopandas as gpd\n",
    "import matplotlib.pyplot as plt\n",
    "from cartopy.feature import ShapelyFeature\n",
    "import cartopy.crs as ccrs\n",
    "import matplotlib.patches as mpatches\n",
    "import matplotlib.lines as mlines\n",
    "\n",
    "plt.ion() # make the plotting interactive"
   ]
  },
  {
   "cell_type": "code",
   "execution_count": 4,
   "id": "bad04971",
   "metadata": {},
   "outputs": [
    {
     "ename": "SyntaxError",
     "evalue": "invalid syntax (3633077701.py, line 3)",
     "output_type": "error",
     "traceback": [
      "\u001b[1;36m  Cell \u001b[1;32mIn[4], line 3\u001b[1;36m\u001b[0m\n\u001b[1;33m    roads\u001b[0m\n\u001b[1;37m    ^\u001b[0m\n\u001b[1;31mSyntaxError\u001b[0m\u001b[1;31m:\u001b[0m invalid syntax\n"
     ]
    }
   ],
   "source": [
    "#import data file: flood, buildings, roads, population excel file, county outline, sa outline\n",
    "flood= gpd.read_file('Project_datafiles/Flood_2m.shp')\n",
    "roads= gpd.read_file('Project_datafiles/'\n",
    "buildings= \n",
    "pop_demography\n",
    "fermanagh\n",
    "small_area"
   ]
  },
  {
   "cell_type": "code",
   "execution_count": 5,
   "id": "d969f21a",
   "metadata": {},
   "outputs": [
    {
     "ename": "NameError",
     "evalue": "name 'flood' is not defined",
     "output_type": "error",
     "traceback": [
      "\u001b[1;31m---------------------------------------------------------------------------\u001b[0m",
      "\u001b[1;31mNameError\u001b[0m                                 Traceback (most recent call last)",
      "Cell \u001b[1;32mIn[5], line 1\u001b[0m\n\u001b[1;32m----> 1\u001b[0m \u001b[43mflood\u001b[49m\u001b[38;5;241m.\u001b[39mhead()\n\u001b[0;32m      2\u001b[0m \u001b[38;5;66;03m# check that all data is geo referenced\u001b[39;00m\n",
      "\u001b[1;31mNameError\u001b[0m: name 'flood' is not defined"
     ]
    }
   ],
   "source": [
    "flood.head()\n",
    "# check that all data is geo referenced"
   ]
  },
  {
   "cell_type": "code",
   "execution_count": null,
   "id": "063b8f89",
   "metadata": {},
   "outputs": [],
   "source": [
    "#create % column for elderly and child ?"
   ]
  },
  {
   "cell_type": "code",
   "execution_count": null,
   "id": "6c1949ff",
   "metadata": {},
   "outputs": [],
   "source": [
    "#join sa shape file with excel pop file"
   ]
  },
  {
   "cell_type": "code",
   "execution_count": null,
   "id": "8f3ee228",
   "metadata": {},
   "outputs": [],
   "source": [
    "#create column pop density"
   ]
  },
  {
   "cell_type": "code",
   "execution_count": null,
   "id": "5ff95d94",
   "metadata": {},
   "outputs": [],
   "source": [
    "#all data shapefile clipped to flood polygon with within"
   ]
  },
  {
   "cell_type": "code",
   "execution_count": null,
   "id": "ca5b432e",
   "metadata": {},
   "outputs": [],
   "source": [
    "#analyses:-tot pop in flood polygon\n",
    "#         - nbr resident houses\n",
    "#         - tot length of road impacted and class A roas\n",
    "#         - Sa with highest pop density and if any are adjacent\n",
    "#         - SA with less than avg pop density\n",
    "#         - which landcover types has highest area in flood poly\n",
    "#         - total area flooded per landcover types\n",
    "#         - SA with highest % of elderly/child\n",
    "#         - SA with low pop density but high child %\n",
    "#         - SA with medical building\n",
    "#         - residential building furtherest from medical build (use original dataset ?)\n",
    "#         - SA centre furthest from medical building"
   ]
  },
  {
   "cell_type": "code",
   "execution_count": null,
   "id": "3682b583",
   "metadata": {},
   "outputs": [],
   "source": [
    "#add scale and legend handle"
   ]
  },
  {
   "cell_type": "code",
   "execution_count": null,
   "id": "1c176352",
   "metadata": {},
   "outputs": [],
   "source": [
    "#create map and add features to map\n",
    "# do second map with landcover"
   ]
  },
  {
   "cell_type": "code",
   "execution_count": null,
   "id": "13c66833",
   "metadata": {},
   "outputs": [],
   "source": [
    "#different labels depending on building class and road class"
   ]
  },
  {
   "cell_type": "code",
   "execution_count": null,
   "id": "6a65b5af",
   "metadata": {},
   "outputs": [],
   "source": [
    "#grid lines"
   ]
  }
 ],
 "metadata": {
  "kernelspec": {
   "display_name": "Python 3 (ipykernel)",
   "language": "python",
   "name": "python3"
  },
  "language_info": {
   "codemirror_mode": {
    "name": "ipython",
    "version": 3
   },
   "file_extension": ".py",
   "mimetype": "text/x-python",
   "name": "python",
   "nbconvert_exporter": "python",
   "pygments_lexer": "ipython3",
   "version": "3.9.16"
  }
 },
 "nbformat": 4,
 "nbformat_minor": 5
}
